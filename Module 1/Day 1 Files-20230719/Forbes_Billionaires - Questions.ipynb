{
 "cells": [
  {
   "cell_type": "markdown",
   "metadata": {
    "ExecuteTime": {
     "end_time": "2020-11-19T05:35:59.664061Z",
     "start_time": "2020-11-19T05:35:59.311222Z"
    }
   },
   "source": [
    "### Import Numpy and Pandas Libraries"
   ]
  },
  {
   "cell_type": "code",
   "execution_count": 1,
   "metadata": {
    "ExecuteTime": {
     "end_time": "2020-11-19T05:35:59.673224Z",
     "start_time": "2020-11-19T05:35:59.666044Z"
    }
   },
   "outputs": [],
   "source": [
    "import numpy as np\n",
    "import pandas as pd"
   ]
  },
  {
   "cell_type": "markdown",
   "metadata": {},
   "source": [
    "# Q1. Read the '.csv' file into a data frame and display the first 5 rows."
   ]
  },
  {
   "cell_type": "code",
   "execution_count": 2,
   "metadata": {},
   "outputs": [],
   "source": [
    "df = pd.read_csv('D:/Codes/Predictive Analysis/Day 1 Files-20230719/Forbes_Billionaire.csv')"
   ]
  },
  {
   "cell_type": "code",
   "execution_count": 3,
   "metadata": {},
   "outputs": [
    {
     "data": {
      "text/html": [
       "<div>\n",
       "<style scoped>\n",
       "    .dataframe tbody tr th:only-of-type {\n",
       "        vertical-align: middle;\n",
       "    }\n",
       "\n",
       "    .dataframe tbody tr th {\n",
       "        vertical-align: top;\n",
       "    }\n",
       "\n",
       "    .dataframe thead th {\n",
       "        text-align: right;\n",
       "    }\n",
       "</style>\n",
       "<table border=\"1\" class=\"dataframe\">\n",
       "  <thead>\n",
       "    <tr style=\"text-align: right;\">\n",
       "      <th></th>\n",
       "      <th>Rank</th>\n",
       "      <th>Name</th>\n",
       "      <th>Age</th>\n",
       "      <th>Net Worth</th>\n",
       "      <th>Country</th>\n",
       "      <th>Source</th>\n",
       "      <th>Industries</th>\n",
       "    </tr>\n",
       "  </thead>\n",
       "  <tbody>\n",
       "    <tr>\n",
       "      <th>0</th>\n",
       "      <td>1</td>\n",
       "      <td>JEFF BEZOS</td>\n",
       "      <td>56.0</td>\n",
       "      <td>113.0</td>\n",
       "      <td>United States</td>\n",
       "      <td>Amazon</td>\n",
       "      <td>Technology</td>\n",
       "    </tr>\n",
       "    <tr>\n",
       "      <th>1</th>\n",
       "      <td>2</td>\n",
       "      <td>BILL GATES</td>\n",
       "      <td>64.0</td>\n",
       "      <td>98.0</td>\n",
       "      <td>United States</td>\n",
       "      <td>Microsoft</td>\n",
       "      <td>Technology</td>\n",
       "    </tr>\n",
       "    <tr>\n",
       "      <th>2</th>\n",
       "      <td>3</td>\n",
       "      <td>BERNARD ARNAULT &amp; FAMILY</td>\n",
       "      <td>71.0</td>\n",
       "      <td>76.0</td>\n",
       "      <td>France</td>\n",
       "      <td>LVMH</td>\n",
       "      <td>Fashion &amp; Retail</td>\n",
       "    </tr>\n",
       "    <tr>\n",
       "      <th>3</th>\n",
       "      <td>4</td>\n",
       "      <td>WARREN BUFFETT</td>\n",
       "      <td>89.0</td>\n",
       "      <td>67.5</td>\n",
       "      <td>United States</td>\n",
       "      <td>Berkshire Hathaway</td>\n",
       "      <td>Finance &amp; Investments</td>\n",
       "    </tr>\n",
       "    <tr>\n",
       "      <th>4</th>\n",
       "      <td>5</td>\n",
       "      <td>LARRY ELLISON</td>\n",
       "      <td>75.0</td>\n",
       "      <td>59.0</td>\n",
       "      <td>United States</td>\n",
       "      <td>software</td>\n",
       "      <td>Technology</td>\n",
       "    </tr>\n",
       "    <tr>\n",
       "      <th>5</th>\n",
       "      <td>6</td>\n",
       "      <td>AMANCIO ORTEGA</td>\n",
       "      <td>84.0</td>\n",
       "      <td>55.1</td>\n",
       "      <td>Spain</td>\n",
       "      <td>Zara</td>\n",
       "      <td>Fashion &amp; Retail</td>\n",
       "    </tr>\n",
       "    <tr>\n",
       "      <th>6</th>\n",
       "      <td>7</td>\n",
       "      <td>MARK ZUCKERBERG</td>\n",
       "      <td>35.0</td>\n",
       "      <td>54.7</td>\n",
       "      <td>United States</td>\n",
       "      <td>Facebook</td>\n",
       "      <td>Technology</td>\n",
       "    </tr>\n",
       "    <tr>\n",
       "      <th>7</th>\n",
       "      <td>8</td>\n",
       "      <td>JIM WALTON</td>\n",
       "      <td>71.0</td>\n",
       "      <td>54.6</td>\n",
       "      <td>United States</td>\n",
       "      <td>Walmart</td>\n",
       "      <td>Fashion &amp; Retail</td>\n",
       "    </tr>\n",
       "    <tr>\n",
       "      <th>8</th>\n",
       "      <td>9</td>\n",
       "      <td>ALICE WALTON</td>\n",
       "      <td>70.0</td>\n",
       "      <td>54.4</td>\n",
       "      <td>United States</td>\n",
       "      <td>Walmart</td>\n",
       "      <td>Fashion &amp; Retail</td>\n",
       "    </tr>\n",
       "    <tr>\n",
       "      <th>9</th>\n",
       "      <td>10</td>\n",
       "      <td>ROB WALTON</td>\n",
       "      <td>75.0</td>\n",
       "      <td>54.1</td>\n",
       "      <td>United States</td>\n",
       "      <td>Walmart</td>\n",
       "      <td>Fashion &amp; Retail</td>\n",
       "    </tr>\n",
       "  </tbody>\n",
       "</table>\n",
       "</div>"
      ],
      "text/plain": [
       "   Rank                      Name   Age  Net Worth        Country  \\\n",
       "0     1                JEFF BEZOS  56.0      113.0  United States   \n",
       "1     2                BILL GATES  64.0       98.0  United States   \n",
       "2     3  BERNARD ARNAULT & FAMILY  71.0       76.0         France   \n",
       "3     4            WARREN BUFFETT  89.0       67.5  United States   \n",
       "4     5             LARRY ELLISON  75.0       59.0  United States   \n",
       "5     6            AMANCIO ORTEGA  84.0       55.1          Spain   \n",
       "6     7           MARK ZUCKERBERG  35.0       54.7  United States   \n",
       "7     8                JIM WALTON  71.0       54.6  United States   \n",
       "8     9              ALICE WALTON  70.0       54.4  United States   \n",
       "9    10                ROB WALTON  75.0       54.1  United States   \n",
       "\n",
       "               Source             Industries  \n",
       "0              Amazon             Technology  \n",
       "1           Microsoft             Technology  \n",
       "2                LVMH       Fashion & Retail  \n",
       "3  Berkshire Hathaway  Finance & Investments  \n",
       "4            software             Technology  \n",
       "5                Zara       Fashion & Retail  \n",
       "6            Facebook             Technology  \n",
       "7             Walmart       Fashion & Retail  \n",
       "8             Walmart       Fashion & Retail  \n",
       "9             Walmart       Fashion & Retail  "
      ]
     },
     "execution_count": 3,
     "metadata": {},
     "output_type": "execute_result"
    }
   ],
   "source": [
    "df.head(10)"
   ]
  },
  {
   "cell_type": "code",
   "execution_count": 4,
   "metadata": {},
   "outputs": [
    {
     "name": "stdout",
     "output_type": "stream",
     "text": [
      "<class 'pandas.core.frame.DataFrame'>\n",
      "RangeIndex: 2095 entries, 0 to 2094\n",
      "Data columns (total 7 columns):\n",
      " #   Column      Non-Null Count  Dtype  \n",
      "---  ------      --------------  -----  \n",
      " 0   Rank        2095 non-null   int64  \n",
      " 1   Name        2095 non-null   object \n",
      " 2   Age         2052 non-null   float64\n",
      " 3   Net Worth   2095 non-null   float64\n",
      " 4   Country     2095 non-null   object \n",
      " 5   Source      2095 non-null   object \n",
      " 6   Industries  2095 non-null   object \n",
      "dtypes: float64(2), int64(1), object(4)\n",
      "memory usage: 114.7+ KB\n"
     ]
    }
   ],
   "source": [
    "df.info()"
   ]
  },
  {
   "cell_type": "code",
   "execution_count": 5,
   "metadata": {},
   "outputs": [
    {
     "data": {
      "text/html": [
       "<div>\n",
       "<style scoped>\n",
       "    .dataframe tbody tr th:only-of-type {\n",
       "        vertical-align: middle;\n",
       "    }\n",
       "\n",
       "    .dataframe tbody tr th {\n",
       "        vertical-align: top;\n",
       "    }\n",
       "\n",
       "    .dataframe thead th {\n",
       "        text-align: right;\n",
       "    }\n",
       "</style>\n",
       "<table border=\"1\" class=\"dataframe\">\n",
       "  <thead>\n",
       "    <tr style=\"text-align: right;\">\n",
       "      <th></th>\n",
       "      <th>Rank</th>\n",
       "      <th>Age</th>\n",
       "      <th>Net Worth</th>\n",
       "    </tr>\n",
       "  </thead>\n",
       "  <tbody>\n",
       "    <tr>\n",
       "      <th>count</th>\n",
       "      <td>2095.000000</td>\n",
       "      <td>2052.000000</td>\n",
       "      <td>2095.000000</td>\n",
       "    </tr>\n",
       "    <tr>\n",
       "      <th>mean</th>\n",
       "      <td>1017.895465</td>\n",
       "      <td>64.178850</td>\n",
       "      <td>3.836516</td>\n",
       "    </tr>\n",
       "    <tr>\n",
       "      <th>std</th>\n",
       "      <td>583.180996</td>\n",
       "      <td>13.272036</td>\n",
       "      <td>6.644467</td>\n",
       "    </tr>\n",
       "    <tr>\n",
       "      <th>min</th>\n",
       "      <td>1.000000</td>\n",
       "      <td>22.000000</td>\n",
       "      <td>1.000000</td>\n",
       "    </tr>\n",
       "    <tr>\n",
       "      <th>25%</th>\n",
       "      <td>514.000000</td>\n",
       "      <td>55.000000</td>\n",
       "      <td>1.400000</td>\n",
       "    </tr>\n",
       "    <tr>\n",
       "      <th>50%</th>\n",
       "      <td>1001.000000</td>\n",
       "      <td>64.000000</td>\n",
       "      <td>2.100000</td>\n",
       "    </tr>\n",
       "    <tr>\n",
       "      <th>75%</th>\n",
       "      <td>1513.000000</td>\n",
       "      <td>74.000000</td>\n",
       "      <td>3.600000</td>\n",
       "    </tr>\n",
       "    <tr>\n",
       "      <th>max</th>\n",
       "      <td>1990.000000</td>\n",
       "      <td>101.000000</td>\n",
       "      <td>113.000000</td>\n",
       "    </tr>\n",
       "  </tbody>\n",
       "</table>\n",
       "</div>"
      ],
      "text/plain": [
       "              Rank          Age    Net Worth\n",
       "count  2095.000000  2052.000000  2095.000000\n",
       "mean   1017.895465    64.178850     3.836516\n",
       "std     583.180996    13.272036     6.644467\n",
       "min       1.000000    22.000000     1.000000\n",
       "25%     514.000000    55.000000     1.400000\n",
       "50%    1001.000000    64.000000     2.100000\n",
       "75%    1513.000000    74.000000     3.600000\n",
       "max    1990.000000   101.000000   113.000000"
      ]
     },
     "execution_count": 5,
     "metadata": {},
     "output_type": "execute_result"
    }
   ],
   "source": [
    "df.describe()"
   ]
  },
  {
   "cell_type": "code",
   "execution_count": 6,
   "metadata": {},
   "outputs": [],
   "source": [
    "nw=df[\"Net Worth\"]"
   ]
  },
  {
   "cell_type": "code",
   "execution_count": 7,
   "metadata": {},
   "outputs": [
    {
     "data": {
      "text/plain": [
       "8037.499999999999"
      ]
     },
     "execution_count": 7,
     "metadata": {},
     "output_type": "execute_result"
    }
   ],
   "source": [
    "nw.sum()"
   ]
  },
  {
   "cell_type": "code",
   "execution_count": 8,
   "metadata": {},
   "outputs": [
    {
     "data": {
      "text/plain": [
       "3.8365155131264914"
      ]
     },
     "execution_count": 8,
     "metadata": {},
     "output_type": "execute_result"
    }
   ],
   "source": [
    "nw.mean()"
   ]
  },
  {
   "cell_type": "code",
   "execution_count": 9,
   "metadata": {},
   "outputs": [],
   "source": [
    "country= df[\"Country\"]"
   ]
  },
  {
   "cell_type": "code",
   "execution_count": 10,
   "metadata": {},
   "outputs": [
    {
     "data": {
      "text/plain": [
       "0    United States\n",
       "Name: Country, dtype: object"
      ]
     },
     "execution_count": 10,
     "metadata": {},
     "output_type": "execute_result"
    }
   ],
   "source": [
    "country.mode()"
   ]
  },
  {
   "cell_type": "code",
   "execution_count": 11,
   "metadata": {},
   "outputs": [
    {
     "data": {
      "text/plain": [
       "array(['United States', 'France', 'Spain', 'Mexico', 'China', 'India',\n",
       "       'Germany', 'Canada', 'Hong Kong', 'Italy', 'Brazil', 'Russia',\n",
       "       'Japan', 'Austria', 'Czechia', 'South Korea', 'Indonesia',\n",
       "       'Sweden', 'Thailand', 'Australia', 'United Kingdom', 'Netherlands',\n",
       "       'Singapore', 'Ireland', 'Chile', 'New Zealand', 'Cyprus',\n",
       "       'Malaysia', 'Colombia', 'Nigeria', 'Denmark', 'Switzerland',\n",
       "       'Belgium', 'Israel', 'South Africa', 'Vietnam', 'Philippines',\n",
       "       'Taiwan', 'Egypt', 'Norway', 'Georgia', 'Finland', 'Turkey',\n",
       "       'Algeria', 'Peru', 'Portugal', 'Poland', 'Kazakhstan',\n",
       "       'United Arab Emirates', 'Venezuela', 'Liechtenstein', 'Greece',\n",
       "       'Argentina', 'Eswatini (Swaziland)', 'Ukraine', 'Lebanon',\n",
       "       'Guernsey', 'Oman', 'Iceland', 'Macao', 'Monaco', 'Tanzania',\n",
       "       'Slovakia', 'Angola', 'Nepal', 'Romania', 'Kuwait', 'Hungary',\n",
       "       'Qatar', 'St. Kitts and Nevis', 'Zimbabwe', 'Morocco'],\n",
       "      dtype=object)"
      ]
     },
     "execution_count": 11,
     "metadata": {},
     "output_type": "execute_result"
    }
   ],
   "source": [
    "country.unique()"
   ]
  },
  {
   "cell_type": "code",
   "execution_count": 12,
   "metadata": {},
   "outputs": [
    {
     "data": {
      "text/plain": [
       "72"
      ]
     },
     "execution_count": 12,
     "metadata": {},
     "output_type": "execute_result"
    }
   ],
   "source": [
    "country.nunique()"
   ]
  },
  {
   "cell_type": "code",
   "execution_count": 13,
   "metadata": {},
   "outputs": [
    {
     "data": {
      "text/plain": [
       "4     59.0\n",
       "3     67.5\n",
       "2     76.0\n",
       "1     98.0\n",
       "0    113.0\n",
       "Name: Net Worth, dtype: float64"
      ]
     },
     "execution_count": 13,
     "metadata": {},
     "output_type": "execute_result"
    }
   ],
   "source": [
    "df[\"Net Worth\"].sort_values().tail(5)"
   ]
  },
  {
   "cell_type": "markdown",
   "metadata": {},
   "source": [
    "# Q2. Name the top 8 industries with maximum count of billionaires"
   ]
  },
  {
   "cell_type": "code",
   "execution_count": 14,
   "metadata": {},
   "outputs": [
    {
     "data": {
      "text/plain": [
       "array(['Technology', 'Fashion & Retail', 'Finance & Investments',\n",
       "       'Telecom', 'Media & Entertainment', 'Diversified', 'Energy',\n",
       "       'Real Estate', 'Gambling & Casinos', 'Food & Beverage',\n",
       "       'Automotive', 'Manufacturing', 'Metals & Mining', 'Service',\n",
       "       'Healthcare', 'Logistics', 'Construction & Engineering', 'Sports'],\n",
       "      dtype=object)"
      ]
     },
     "execution_count": 14,
     "metadata": {},
     "output_type": "execute_result"
    }
   ],
   "source": [
    "df[\"Industries\"].unique()"
   ]
  },
  {
   "cell_type": "code",
   "execution_count": 15,
   "metadata": {},
   "outputs": [
    {
     "data": {
      "text/plain": [
       "Industries\n",
       "Finance & Investments    298\n",
       "Technology               241\n",
       "Fashion & Retail         209\n",
       "Manufacturing            198\n",
       "Real Estate              196\n",
       "Diversified              169\n",
       "Food & Beverage          168\n",
       "Healthcare               149\n",
       "Name: Name, dtype: int64"
      ]
     },
     "execution_count": 15,
     "metadata": {},
     "output_type": "execute_result"
    }
   ],
   "source": [
    "df.groupby('Industries')['Name'].nunique().sort_values(ascending = False).head(8)"
   ]
  },
  {
   "cell_type": "markdown",
   "metadata": {},
   "source": [
    "# Q3. State the headcount of billionaires from these top 8 industries"
   ]
  },
  {
   "cell_type": "code",
   "execution_count": 16,
   "metadata": {},
   "outputs": [
    {
     "data": {
      "text/plain": [
       "Industries\n",
       "Finance & Investments    298\n",
       "Technology               241\n",
       "Fashion & Retail         209\n",
       "Manufacturing            198\n",
       "Real Estate              196\n",
       "Diversified              169\n",
       "Food & Beverage          168\n",
       "Healthcare               149\n",
       "Name: Name, dtype: int64"
      ]
     },
     "execution_count": 16,
     "metadata": {},
     "output_type": "execute_result"
    }
   ],
   "source": [
    "df.groupby('Industries')['Name'].count().sort_values(ascending = False).head(8)"
   ]
  },
  {
   "cell_type": "markdown",
   "metadata": {},
   "source": [
    "# Q4. Compare the mean of net worth of billionaires from these top 8 industries."
   ]
  },
  {
   "cell_type": "code",
   "execution_count": 17,
   "metadata": {
    "ExecuteTime": {
     "end_time": "2020-11-19T05:36:00.598119Z",
     "start_time": "2020-11-19T05:36:00.440541Z"
    }
   },
   "outputs": [
    {
     "data": {
      "text/plain": [
       "Industries\n",
       "Technology               5.634440\n",
       "Fashion & Retail         5.372727\n",
       "Telecom                  4.941379\n",
       "Gambling & Casinos       4.528571\n",
       "Metals & Mining          4.193220\n",
       "Energy                   4.067500\n",
       "Media & Entertainment    3.994595\n",
       "Food & Beverage          3.708333\n",
       "Name: Net Worth, dtype: float64"
      ]
     },
     "execution_count": 17,
     "metadata": {},
     "output_type": "execute_result"
    }
   ],
   "source": [
    "df.groupby('Industries')['Net Worth'].mean().sort_values(ascending = False).head(8)"
   ]
  },
  {
   "cell_type": "markdown",
   "metadata": {},
   "source": [
    "# Q5. Compare the mean age of billionaires from these top 8 industries."
   ]
  },
  {
   "cell_type": "code",
   "execution_count": 18,
   "metadata": {},
   "outputs": [
    {
     "data": {
      "text/plain": [
       "Industries\n",
       "Technology               55.375527\n",
       "Metals & Mining          60.913793\n",
       "Healthcare               63.088435\n",
       "Automotive               63.152174\n",
       "Manufacturing            64.139896\n",
       "Service                  64.317460\n",
       "Telecom                  64.413793\n",
       "Media & Entertainment    64.760563\n",
       "Name: Age, dtype: float64"
      ]
     },
     "execution_count": 18,
     "metadata": {},
     "output_type": "execute_result"
    }
   ],
   "source": [
    "df.groupby('Industries')['Age'].mean().sort_values().head(8)"
   ]
  },
  {
   "cell_type": "markdown",
   "metadata": {},
   "source": [
    "# Q6. Name the Richest billionaire in the Automotive sector"
   ]
  },
  {
   "cell_type": "code",
   "execution_count": 19,
   "metadata": {},
   "outputs": [
    {
     "data": {
      "text/html": [
       "<div>\n",
       "<style scoped>\n",
       "    .dataframe tbody tr th:only-of-type {\n",
       "        vertical-align: middle;\n",
       "    }\n",
       "\n",
       "    .dataframe tbody tr th {\n",
       "        vertical-align: top;\n",
       "    }\n",
       "\n",
       "    .dataframe thead th {\n",
       "        text-align: right;\n",
       "    }\n",
       "</style>\n",
       "<table border=\"1\" class=\"dataframe\">\n",
       "  <thead>\n",
       "    <tr style=\"text-align: right;\">\n",
       "      <th></th>\n",
       "      <th>Rank</th>\n",
       "      <th>Name</th>\n",
       "      <th>Age</th>\n",
       "      <th>Net Worth</th>\n",
       "      <th>Country</th>\n",
       "      <th>Source</th>\n",
       "      <th>Industries</th>\n",
       "    </tr>\n",
       "  </thead>\n",
       "  <tbody>\n",
       "    <tr>\n",
       "      <th>30</th>\n",
       "      <td>31</td>\n",
       "      <td>ELON MUSK</td>\n",
       "      <td>48.0</td>\n",
       "      <td>24.6</td>\n",
       "      <td>United States</td>\n",
       "      <td>Tesla, SpaceX</td>\n",
       "      <td>Automotive</td>\n",
       "    </tr>\n",
       "    <tr>\n",
       "      <th>53</th>\n",
       "      <td>54</td>\n",
       "      <td>SUSANNE KLATTEN</td>\n",
       "      <td>57.0</td>\n",
       "      <td>16.8</td>\n",
       "      <td>Germany</td>\n",
       "      <td>BMW, pharmaceuticals</td>\n",
       "      <td>Automotive</td>\n",
       "    </tr>\n",
       "    <tr>\n",
       "      <th>95</th>\n",
       "      <td>96</td>\n",
       "      <td>LI SHUFU</td>\n",
       "      <td>56.0</td>\n",
       "      <td>12.4</td>\n",
       "      <td>China</td>\n",
       "      <td>automobiles</td>\n",
       "      <td>Automotive</td>\n",
       "    </tr>\n",
       "    <tr>\n",
       "      <th>98</th>\n",
       "      <td>98</td>\n",
       "      <td>STEFAN QUANDT</td>\n",
       "      <td>53.0</td>\n",
       "      <td>12.3</td>\n",
       "      <td>Germany</td>\n",
       "      <td>BMW</td>\n",
       "      <td>Automotive</td>\n",
       "    </tr>\n",
       "    <tr>\n",
       "      <th>165</th>\n",
       "      <td>165</td>\n",
       "      <td>LU ZHONGFANG</td>\n",
       "      <td>77.0</td>\n",
       "      <td>8.2</td>\n",
       "      <td>China</td>\n",
       "      <td>education</td>\n",
       "      <td>Automotive</td>\n",
       "    </tr>\n",
       "  </tbody>\n",
       "</table>\n",
       "</div>"
      ],
      "text/plain": [
       "     Rank             Name   Age  Net Worth        Country  \\\n",
       "30     31        ELON MUSK  48.0       24.6  United States   \n",
       "53     54  SUSANNE KLATTEN  57.0       16.8        Germany   \n",
       "95     96         LI SHUFU  56.0       12.4          China   \n",
       "98     98    STEFAN QUANDT  53.0       12.3        Germany   \n",
       "165   165     LU ZHONGFANG  77.0        8.2          China   \n",
       "\n",
       "                   Source  Industries  \n",
       "30          Tesla, SpaceX  Automotive  \n",
       "53   BMW, pharmaceuticals  Automotive  \n",
       "95            automobiles  Automotive  \n",
       "98                    BMW  Automotive  \n",
       "165             education  Automotive  "
      ]
     },
     "execution_count": 19,
     "metadata": {},
     "output_type": "execute_result"
    }
   ],
   "source": [
    "df[df['Industries']==\"Automotive\"].sort_values(by = 'Net Worth', ascending = False).head(5)"
   ]
  },
  {
   "cell_type": "markdown",
   "metadata": {},
   "source": [
    "# Q7. Name top 5 countries with maximum number of billionaires."
   ]
  },
  {
   "cell_type": "code",
   "execution_count": 20,
   "metadata": {
    "ExecuteTime": {
     "end_time": "2020-11-19T05:36:01.990680Z",
     "start_time": "2020-11-19T05:36:01.863745Z"
    }
   },
   "outputs": [
    {
     "data": {
      "text/html": [
       "<div>\n",
       "<style scoped>\n",
       "    .dataframe tbody tr th:only-of-type {\n",
       "        vertical-align: middle;\n",
       "    }\n",
       "\n",
       "    .dataframe tbody tr th {\n",
       "        vertical-align: top;\n",
       "    }\n",
       "\n",
       "    .dataframe thead th {\n",
       "        text-align: right;\n",
       "    }\n",
       "</style>\n",
       "<table border=\"1\" class=\"dataframe\">\n",
       "  <thead>\n",
       "    <tr style=\"text-align: right;\">\n",
       "      <th></th>\n",
       "      <th>Name</th>\n",
       "    </tr>\n",
       "    <tr>\n",
       "      <th>Country</th>\n",
       "      <th></th>\n",
       "    </tr>\n",
       "  </thead>\n",
       "  <tbody>\n",
       "    <tr>\n",
       "      <th>United States</th>\n",
       "      <td>614</td>\n",
       "    </tr>\n",
       "    <tr>\n",
       "      <th>China</th>\n",
       "      <td>387</td>\n",
       "    </tr>\n",
       "    <tr>\n",
       "      <th>Germany</th>\n",
       "      <td>107</td>\n",
       "    </tr>\n",
       "    <tr>\n",
       "      <th>India</th>\n",
       "      <td>102</td>\n",
       "    </tr>\n",
       "    <tr>\n",
       "      <th>Russia</th>\n",
       "      <td>99</td>\n",
       "    </tr>\n",
       "  </tbody>\n",
       "</table>\n",
       "</div>"
      ],
      "text/plain": [
       "               Name\n",
       "Country            \n",
       "United States   614\n",
       "China           387\n",
       "Germany         107\n",
       "India           102\n",
       "Russia           99"
      ]
     },
     "execution_count": 20,
     "metadata": {},
     "output_type": "execute_result"
    }
   ],
   "source": [
    "pd.DataFrame(df.groupby('Country')['Name'].nunique()).sort_values(by='Name',ascending=False).head(5)"
   ]
  },
  {
   "cell_type": "markdown",
   "metadata": {},
   "source": [
    "# Q8. Name the richest Chinese billionaire and his net worth"
   ]
  },
  {
   "cell_type": "code",
   "execution_count": 21,
   "metadata": {
    "ExecuteTime": {
     "end_time": "2020-11-19T05:36:03.497416Z",
     "start_time": "2020-11-19T05:36:03.366939Z"
    }
   },
   "outputs": [
    {
     "data": {
      "text/html": [
       "<div>\n",
       "<style scoped>\n",
       "    .dataframe tbody tr th:only-of-type {\n",
       "        vertical-align: middle;\n",
       "    }\n",
       "\n",
       "    .dataframe tbody tr th {\n",
       "        vertical-align: top;\n",
       "    }\n",
       "\n",
       "    .dataframe thead th {\n",
       "        text-align: right;\n",
       "    }\n",
       "</style>\n",
       "<table border=\"1\" class=\"dataframe\">\n",
       "  <thead>\n",
       "    <tr style=\"text-align: right;\">\n",
       "      <th></th>\n",
       "      <th>Rank</th>\n",
       "      <th>Name</th>\n",
       "      <th>Age</th>\n",
       "      <th>Net Worth</th>\n",
       "      <th>Country</th>\n",
       "      <th>Source</th>\n",
       "      <th>Industries</th>\n",
       "    </tr>\n",
       "  </thead>\n",
       "  <tbody>\n",
       "    <tr>\n",
       "      <th>16</th>\n",
       "      <td>17</td>\n",
       "      <td>JACK MA</td>\n",
       "      <td>55.0</td>\n",
       "      <td>38.8</td>\n",
       "      <td>China</td>\n",
       "      <td>e-commerce</td>\n",
       "      <td>Technology</td>\n",
       "    </tr>\n",
       "  </tbody>\n",
       "</table>\n",
       "</div>"
      ],
      "text/plain": [
       "    Rank     Name   Age  Net Worth Country      Source  Industries\n",
       "16    17  JACK MA  55.0       38.8   China  e-commerce  Technology"
      ]
     },
     "execution_count": 21,
     "metadata": {},
     "output_type": "execute_result"
    }
   ],
   "source": [
    "df[df['Country']=='China'].sort_values(by='Net Worth',ascending=False).head(1)"
   ]
  },
  {
   "cell_type": "markdown",
   "metadata": {},
   "source": [
    "# Q9. Name top 5 Industries with maximum number of Indian billionaires."
   ]
  },
  {
   "cell_type": "code",
   "execution_count": 22,
   "metadata": {
    "ExecuteTime": {
     "end_time": "2020-11-19T05:36:03.620536Z",
     "start_time": "2020-11-19T05:36:03.499374Z"
    }
   },
   "outputs": [
    {
     "data": {
      "text/plain": [
       "Industries\n",
       "Healthcare         17\n",
       "Manufacturing      14\n",
       "Diversified        13\n",
       "Technology         11\n",
       "Food & Beverage     8\n",
       "Name: Name, dtype: int64"
      ]
     },
     "execution_count": 22,
     "metadata": {},
     "output_type": "execute_result"
    }
   ],
   "source": [
    "df[df['Country']=='India'].groupby('Industries')['Name'].nunique().sort_values(ascending=False).head(5)"
   ]
  },
  {
   "cell_type": "code",
   "execution_count": null,
   "metadata": {
    "ExecuteTime": {
     "end_time": "2020-11-19T05:36:03.728989Z",
     "start_time": "2020-11-19T05:36:03.622495Z"
    }
   },
   "outputs": [],
   "source": []
  },
  {
   "cell_type": "markdown",
   "metadata": {},
   "source": [
    "# Q10. Name all the Indian billionaires in global top 100 list."
   ]
  },
  {
   "cell_type": "code",
   "execution_count": 23,
   "metadata": {
    "ExecuteTime": {
     "end_time": "2020-11-19T05:36:03.860872Z",
     "start_time": "2020-11-19T05:36:03.729988Z"
    }
   },
   "outputs": [
    {
     "data": {
      "text/html": [
       "<div>\n",
       "<style scoped>\n",
       "    .dataframe tbody tr th:only-of-type {\n",
       "        vertical-align: middle;\n",
       "    }\n",
       "\n",
       "    .dataframe tbody tr th {\n",
       "        vertical-align: top;\n",
       "    }\n",
       "\n",
       "    .dataframe thead th {\n",
       "        text-align: right;\n",
       "    }\n",
       "</style>\n",
       "<table border=\"1\" class=\"dataframe\">\n",
       "  <thead>\n",
       "    <tr style=\"text-align: right;\">\n",
       "      <th></th>\n",
       "      <th>Rank</th>\n",
       "      <th>Name</th>\n",
       "      <th>Age</th>\n",
       "      <th>Net Worth</th>\n",
       "      <th>Country</th>\n",
       "      <th>Source</th>\n",
       "      <th>Industries</th>\n",
       "    </tr>\n",
       "  </thead>\n",
       "  <tbody>\n",
       "    <tr>\n",
       "      <th>0</th>\n",
       "      <td>1</td>\n",
       "      <td>JEFF BEZOS</td>\n",
       "      <td>56.0</td>\n",
       "      <td>113.0</td>\n",
       "      <td>United States</td>\n",
       "      <td>Amazon</td>\n",
       "      <td>Technology</td>\n",
       "    </tr>\n",
       "    <tr>\n",
       "      <th>1</th>\n",
       "      <td>2</td>\n",
       "      <td>BILL GATES</td>\n",
       "      <td>64.0</td>\n",
       "      <td>98.0</td>\n",
       "      <td>United States</td>\n",
       "      <td>Microsoft</td>\n",
       "      <td>Technology</td>\n",
       "    </tr>\n",
       "    <tr>\n",
       "      <th>2</th>\n",
       "      <td>3</td>\n",
       "      <td>BERNARD ARNAULT &amp; FAMILY</td>\n",
       "      <td>71.0</td>\n",
       "      <td>76.0</td>\n",
       "      <td>France</td>\n",
       "      <td>LVMH</td>\n",
       "      <td>Fashion &amp; Retail</td>\n",
       "    </tr>\n",
       "    <tr>\n",
       "      <th>3</th>\n",
       "      <td>4</td>\n",
       "      <td>WARREN BUFFETT</td>\n",
       "      <td>89.0</td>\n",
       "      <td>67.5</td>\n",
       "      <td>United States</td>\n",
       "      <td>Berkshire Hathaway</td>\n",
       "      <td>Finance &amp; Investments</td>\n",
       "    </tr>\n",
       "    <tr>\n",
       "      <th>4</th>\n",
       "      <td>5</td>\n",
       "      <td>LARRY ELLISON</td>\n",
       "      <td>75.0</td>\n",
       "      <td>59.0</td>\n",
       "      <td>United States</td>\n",
       "      <td>software</td>\n",
       "      <td>Technology</td>\n",
       "    </tr>\n",
       "    <tr>\n",
       "      <th>...</th>\n",
       "      <td>...</td>\n",
       "      <td>...</td>\n",
       "      <td>...</td>\n",
       "      <td>...</td>\n",
       "      <td>...</td>\n",
       "      <td>...</td>\n",
       "      <td>...</td>\n",
       "    </tr>\n",
       "    <tr>\n",
       "      <th>95</th>\n",
       "      <td>96</td>\n",
       "      <td>LI SHUFU</td>\n",
       "      <td>56.0</td>\n",
       "      <td>12.4</td>\n",
       "      <td>China</td>\n",
       "      <td>automobiles</td>\n",
       "      <td>Automotive</td>\n",
       "    </tr>\n",
       "    <tr>\n",
       "      <th>96</th>\n",
       "      <td>96</td>\n",
       "      <td>HASSO PLATTNER &amp; FAMILY</td>\n",
       "      <td>76.0</td>\n",
       "      <td>12.4</td>\n",
       "      <td>Germany</td>\n",
       "      <td>software</td>\n",
       "      <td>Technology</td>\n",
       "    </tr>\n",
       "    <tr>\n",
       "      <th>98</th>\n",
       "      <td>98</td>\n",
       "      <td>STEFAN QUANDT</td>\n",
       "      <td>53.0</td>\n",
       "      <td>12.3</td>\n",
       "      <td>Germany</td>\n",
       "      <td>BMW</td>\n",
       "      <td>Automotive</td>\n",
       "    </tr>\n",
       "    <tr>\n",
       "      <th>97</th>\n",
       "      <td>98</td>\n",
       "      <td>LIU YONGHAO &amp; FAMILY</td>\n",
       "      <td>68.0</td>\n",
       "      <td>12.3</td>\n",
       "      <td>China</td>\n",
       "      <td>agribusiness</td>\n",
       "      <td>Service</td>\n",
       "    </tr>\n",
       "    <tr>\n",
       "      <th>99</th>\n",
       "      <td>100</td>\n",
       "      <td>KEN GRIFFIN</td>\n",
       "      <td>51.0</td>\n",
       "      <td>12.1</td>\n",
       "      <td>United States</td>\n",
       "      <td>hedge funds</td>\n",
       "      <td>Finance &amp; Investments</td>\n",
       "    </tr>\n",
       "  </tbody>\n",
       "</table>\n",
       "<p>100 rows × 7 columns</p>\n",
       "</div>"
      ],
      "text/plain": [
       "    Rank                      Name   Age  Net Worth        Country  \\\n",
       "0      1                JEFF BEZOS  56.0      113.0  United States   \n",
       "1      2                BILL GATES  64.0       98.0  United States   \n",
       "2      3  BERNARD ARNAULT & FAMILY  71.0       76.0         France   \n",
       "3      4            WARREN BUFFETT  89.0       67.5  United States   \n",
       "4      5             LARRY ELLISON  75.0       59.0  United States   \n",
       "..   ...                       ...   ...        ...            ...   \n",
       "95    96                  LI SHUFU  56.0       12.4          China   \n",
       "96    96   HASSO PLATTNER & FAMILY  76.0       12.4        Germany   \n",
       "98    98             STEFAN QUANDT  53.0       12.3        Germany   \n",
       "97    98      LIU YONGHAO & FAMILY  68.0       12.3          China   \n",
       "99   100               KEN GRIFFIN  51.0       12.1  United States   \n",
       "\n",
       "                Source             Industries  \n",
       "0               Amazon             Technology  \n",
       "1            Microsoft             Technology  \n",
       "2                 LVMH       Fashion & Retail  \n",
       "3   Berkshire Hathaway  Finance & Investments  \n",
       "4             software             Technology  \n",
       "..                 ...                    ...  \n",
       "95         automobiles             Automotive  \n",
       "96            software             Technology  \n",
       "98                 BMW             Automotive  \n",
       "97        agribusiness                Service  \n",
       "99         hedge funds  Finance & Investments  \n",
       "\n",
       "[100 rows x 7 columns]"
      ]
     },
     "execution_count": 23,
     "metadata": {},
     "output_type": "execute_result"
    }
   ],
   "source": [
    "top_100 = df.sort_values(by='Net Worth',ascending=False).head(100)\n",
    "top_100\n",
    "\n"
   ]
  },
  {
   "cell_type": "code",
   "execution_count": 24,
   "metadata": {
    "ExecuteTime": {
     "end_time": "2020-11-19T05:36:04.106315Z",
     "start_time": "2020-11-19T05:36:03.862832Z"
    }
   },
   "outputs": [
    {
     "data": {
      "text/html": [
       "<div>\n",
       "<style scoped>\n",
       "    .dataframe tbody tr th:only-of-type {\n",
       "        vertical-align: middle;\n",
       "    }\n",
       "\n",
       "    .dataframe tbody tr th {\n",
       "        vertical-align: top;\n",
       "    }\n",
       "\n",
       "    .dataframe thead th {\n",
       "        text-align: right;\n",
       "    }\n",
       "</style>\n",
       "<table border=\"1\" class=\"dataframe\">\n",
       "  <thead>\n",
       "    <tr style=\"text-align: right;\">\n",
       "      <th></th>\n",
       "      <th>Rank</th>\n",
       "      <th>Name</th>\n",
       "      <th>Age</th>\n",
       "      <th>Net Worth</th>\n",
       "      <th>Country</th>\n",
       "      <th>Source</th>\n",
       "      <th>Industries</th>\n",
       "    </tr>\n",
       "  </thead>\n",
       "  <tbody>\n",
       "    <tr>\n",
       "      <th>20</th>\n",
       "      <td>21</td>\n",
       "      <td>MUKESH AMBANI</td>\n",
       "      <td>62.0</td>\n",
       "      <td>36.8</td>\n",
       "      <td>India</td>\n",
       "      <td>petrochemicals, oil &amp; gas</td>\n",
       "      <td>Energy</td>\n",
       "    </tr>\n",
       "    <tr>\n",
       "      <th>77</th>\n",
       "      <td>78</td>\n",
       "      <td>RADHAKISHAN DAMANI &amp; FAMILY</td>\n",
       "      <td>65.0</td>\n",
       "      <td>13.8</td>\n",
       "      <td>India</td>\n",
       "      <td>retail, investments</td>\n",
       "      <td>Fashion &amp; Retail</td>\n",
       "    </tr>\n",
       "  </tbody>\n",
       "</table>\n",
       "</div>"
      ],
      "text/plain": [
       "    Rank                         Name   Age  Net Worth Country  \\\n",
       "20    21                MUKESH AMBANI  62.0       36.8   India   \n",
       "77    78  RADHAKISHAN DAMANI & FAMILY  65.0       13.8   India   \n",
       "\n",
       "                       Source        Industries  \n",
       "20  petrochemicals, oil & gas            Energy  \n",
       "77        retail, investments  Fashion & Retail  "
      ]
     },
     "execution_count": 24,
     "metadata": {},
     "output_type": "execute_result"
    }
   ],
   "source": [
    "top_100[top_100['Country']=='India']"
   ]
  },
  {
   "cell_type": "markdown",
   "metadata": {},
   "source": [
    "# Q11. Name all the billionaires in India who are younger than 50 years. Also state their mean net worth"
   ]
  },
  {
   "cell_type": "code",
   "execution_count": 25,
   "metadata": {
    "ExecuteTime": {
     "end_time": "2020-11-19T05:36:04.247094Z",
     "start_time": "2020-11-19T05:36:04.107281Z"
    }
   },
   "outputs": [],
   "source": [
    "IB=df[df['Country']=='India']"
   ]
  },
  {
   "cell_type": "code",
   "execution_count": 26,
   "metadata": {
    "ExecuteTime": {
     "end_time": "2020-11-19T05:36:04.384187Z",
     "start_time": "2020-11-19T05:36:04.248053Z"
    }
   },
   "outputs": [
    {
     "data": {
      "text/html": [
       "<div>\n",
       "<style scoped>\n",
       "    .dataframe tbody tr th:only-of-type {\n",
       "        vertical-align: middle;\n",
       "    }\n",
       "\n",
       "    .dataframe tbody tr th {\n",
       "        vertical-align: top;\n",
       "    }\n",
       "\n",
       "    .dataframe thead th {\n",
       "        text-align: right;\n",
       "    }\n",
       "</style>\n",
       "<table border=\"1\" class=\"dataframe\">\n",
       "  <thead>\n",
       "    <tr style=\"text-align: right;\">\n",
       "      <th></th>\n",
       "      <th>Rank</th>\n",
       "      <th>Name</th>\n",
       "      <th>Age</th>\n",
       "      <th>Net Worth</th>\n",
       "      <th>Country</th>\n",
       "      <th>Source</th>\n",
       "      <th>Industries</th>\n",
       "    </tr>\n",
       "  </thead>\n",
       "  <tbody>\n",
       "    <tr>\n",
       "      <th>874</th>\n",
       "      <td>875</td>\n",
       "      <td>VIJAY SHEKHAR SHARMA</td>\n",
       "      <td>41.0</td>\n",
       "      <td>2.4</td>\n",
       "      <td>India</td>\n",
       "      <td>financial technology</td>\n",
       "      <td>Service</td>\n",
       "    </tr>\n",
       "    <tr>\n",
       "      <th>1196</th>\n",
       "      <td>1196</td>\n",
       "      <td>BYJU RAVEENDRAN</td>\n",
       "      <td>38.0</td>\n",
       "      <td>1.8</td>\n",
       "      <td>India</td>\n",
       "      <td>education technology</td>\n",
       "      <td>Technology</td>\n",
       "    </tr>\n",
       "    <tr>\n",
       "      <th>1237</th>\n",
       "      <td>1196</td>\n",
       "      <td>VIKAS OBEROI</td>\n",
       "      <td>49.0</td>\n",
       "      <td>1.8</td>\n",
       "      <td>India</td>\n",
       "      <td>real estate</td>\n",
       "      <td>Real Estate</td>\n",
       "    </tr>\n",
       "    <tr>\n",
       "      <th>1420</th>\n",
       "      <td>1415</td>\n",
       "      <td>RANJAN PAI</td>\n",
       "      <td>47.0</td>\n",
       "      <td>1.5</td>\n",
       "      <td>India</td>\n",
       "      <td>education</td>\n",
       "      <td>Service</td>\n",
       "    </tr>\n",
       "    <tr>\n",
       "      <th>1618</th>\n",
       "      <td>1613</td>\n",
       "      <td>SHAMSHEER VAYALIL</td>\n",
       "      <td>43.0</td>\n",
       "      <td>1.3</td>\n",
       "      <td>India</td>\n",
       "      <td>healthcare</td>\n",
       "      <td>Healthcare</td>\n",
       "    </tr>\n",
       "    <tr>\n",
       "      <th>1732</th>\n",
       "      <td>1730</td>\n",
       "      <td>SACHIN BANSAL</td>\n",
       "      <td>38.0</td>\n",
       "      <td>1.2</td>\n",
       "      <td>India</td>\n",
       "      <td>flipkart</td>\n",
       "      <td>Fashion &amp; Retail</td>\n",
       "    </tr>\n",
       "    <tr>\n",
       "      <th>1742</th>\n",
       "      <td>1730</td>\n",
       "      <td>RADHA VEMBU</td>\n",
       "      <td>47.0</td>\n",
       "      <td>1.2</td>\n",
       "      <td>India</td>\n",
       "      <td>technology</td>\n",
       "      <td>Technology</td>\n",
       "    </tr>\n",
       "    <tr>\n",
       "      <th>1856</th>\n",
       "      <td>1851</td>\n",
       "      <td>BINNY BANSAL</td>\n",
       "      <td>37.0</td>\n",
       "      <td>1.1</td>\n",
       "      <td>India</td>\n",
       "      <td>flipkart</td>\n",
       "      <td>Technology</td>\n",
       "    </tr>\n",
       "    <tr>\n",
       "      <th>1867</th>\n",
       "      <td>1851</td>\n",
       "      <td>ACHARYA BALKRISHNA</td>\n",
       "      <td>47.0</td>\n",
       "      <td>1.1</td>\n",
       "      <td>India</td>\n",
       "      <td>consumer goods</td>\n",
       "      <td>Food &amp; Beverage</td>\n",
       "    </tr>\n",
       "  </tbody>\n",
       "</table>\n",
       "</div>"
      ],
      "text/plain": [
       "      Rank                  Name   Age  Net Worth Country  \\\n",
       "874    875  VIJAY SHEKHAR SHARMA  41.0        2.4   India   \n",
       "1196  1196       BYJU RAVEENDRAN  38.0        1.8   India   \n",
       "1237  1196          VIKAS OBEROI  49.0        1.8   India   \n",
       "1420  1415            RANJAN PAI  47.0        1.5   India   \n",
       "1618  1613     SHAMSHEER VAYALIL  43.0        1.3   India   \n",
       "1732  1730         SACHIN BANSAL  38.0        1.2   India   \n",
       "1742  1730           RADHA VEMBU  47.0        1.2   India   \n",
       "1856  1851          BINNY BANSAL  37.0        1.1   India   \n",
       "1867  1851    ACHARYA BALKRISHNA  47.0        1.1   India   \n",
       "\n",
       "                    Source        Industries  \n",
       "874   financial technology           Service  \n",
       "1196  education technology        Technology  \n",
       "1237           real estate       Real Estate  \n",
       "1420             education           Service  \n",
       "1618            healthcare        Healthcare  \n",
       "1732              flipkart  Fashion & Retail  \n",
       "1742            technology        Technology  \n",
       "1856              flipkart        Technology  \n",
       "1867        consumer goods   Food & Beverage  "
      ]
     },
     "execution_count": 26,
     "metadata": {},
     "output_type": "execute_result"
    }
   ],
   "source": [
    "IB[IB['Age']<50]"
   ]
  },
  {
   "cell_type": "markdown",
   "metadata": {},
   "source": [
    "# Q12. Name the Indian billionaires from real estate sector who are richer than 'DONALD TRUMP'."
   ]
  },
  {
   "cell_type": "code",
   "execution_count": 27,
   "metadata": {
    "ExecuteTime": {
     "end_time": "2020-11-19T05:36:04.609083Z",
     "start_time": "2020-11-19T05:36:04.506952Z"
    }
   },
   "outputs": [
    {
     "data": {
      "text/html": [
       "<div>\n",
       "<style scoped>\n",
       "    .dataframe tbody tr th:only-of-type {\n",
       "        vertical-align: middle;\n",
       "    }\n",
       "\n",
       "    .dataframe tbody tr th {\n",
       "        vertical-align: top;\n",
       "    }\n",
       "\n",
       "    .dataframe thead th {\n",
       "        text-align: right;\n",
       "    }\n",
       "</style>\n",
       "<table border=\"1\" class=\"dataframe\">\n",
       "  <thead>\n",
       "    <tr style=\"text-align: right;\">\n",
       "      <th></th>\n",
       "      <th>Rank</th>\n",
       "      <th>Name</th>\n",
       "      <th>Age</th>\n",
       "      <th>Net Worth</th>\n",
       "      <th>Country</th>\n",
       "      <th>Source</th>\n",
       "      <th>Industries</th>\n",
       "    </tr>\n",
       "  </thead>\n",
       "  <tbody>\n",
       "    <tr>\n",
       "      <th>1047</th>\n",
       "      <td>1001</td>\n",
       "      <td>DONALD TRUMP</td>\n",
       "      <td>73.0</td>\n",
       "      <td>2.1</td>\n",
       "      <td>United States</td>\n",
       "      <td>real estate</td>\n",
       "      <td>Real Estate</td>\n",
       "    </tr>\n",
       "  </tbody>\n",
       "</table>\n",
       "</div>"
      ],
      "text/plain": [
       "      Rank          Name   Age  Net Worth        Country       Source  \\\n",
       "1047  1001  DONALD TRUMP  73.0        2.1  United States  real estate   \n",
       "\n",
       "       Industries  \n",
       "1047  Real Estate  "
      ]
     },
     "execution_count": 27,
     "metadata": {},
     "output_type": "execute_result"
    }
   ],
   "source": [
    "df[df['Name']=='DONALD TRUMP']"
   ]
  },
  {
   "cell_type": "code",
   "execution_count": 28,
   "metadata": {
    "ExecuteTime": {
     "end_time": "2020-11-19T05:36:05.018276Z",
     "start_time": "2020-11-19T05:36:04.882432Z"
    }
   },
   "outputs": [
    {
     "data": {
      "text/html": [
       "<div>\n",
       "<style scoped>\n",
       "    .dataframe tbody tr th:only-of-type {\n",
       "        vertical-align: middle;\n",
       "    }\n",
       "\n",
       "    .dataframe tbody tr th {\n",
       "        vertical-align: top;\n",
       "    }\n",
       "\n",
       "    .dataframe thead th {\n",
       "        text-align: right;\n",
       "    }\n",
       "</style>\n",
       "<table border=\"1\" class=\"dataframe\">\n",
       "  <thead>\n",
       "    <tr style=\"text-align: right;\">\n",
       "      <th></th>\n",
       "      <th>Rank</th>\n",
       "      <th>Name</th>\n",
       "      <th>Age</th>\n",
       "      <th>Net Worth</th>\n",
       "      <th>Country</th>\n",
       "      <th>Source</th>\n",
       "      <th>Industries</th>\n",
       "    </tr>\n",
       "  </thead>\n",
       "  <tbody>\n",
       "    <tr>\n",
       "      <th>494</th>\n",
       "      <td>494</td>\n",
       "      <td>KUSHAL PAL SINGH</td>\n",
       "      <td>88.0</td>\n",
       "      <td>3.7</td>\n",
       "      <td>India</td>\n",
       "      <td>real estate</td>\n",
       "      <td>Real Estate</td>\n",
       "    </tr>\n",
       "    <tr>\n",
       "      <th>774</th>\n",
       "      <td>764</td>\n",
       "      <td>CHANDRU RAHEJA</td>\n",
       "      <td>79.0</td>\n",
       "      <td>2.7</td>\n",
       "      <td>India</td>\n",
       "      <td>real estate</td>\n",
       "      <td>Real Estate</td>\n",
       "    </tr>\n",
       "    <tr>\n",
       "      <th>1237</th>\n",
       "      <td>1196</td>\n",
       "      <td>VIKAS OBEROI</td>\n",
       "      <td>49.0</td>\n",
       "      <td>1.8</td>\n",
       "      <td>India</td>\n",
       "      <td>real estate</td>\n",
       "      <td>Real Estate</td>\n",
       "    </tr>\n",
       "    <tr>\n",
       "      <th>1253</th>\n",
       "      <td>1196</td>\n",
       "      <td>MANGAL PRABHAT LODHA</td>\n",
       "      <td>64.0</td>\n",
       "      <td>1.8</td>\n",
       "      <td>India</td>\n",
       "      <td>real estate</td>\n",
       "      <td>Real Estate</td>\n",
       "    </tr>\n",
       "    <tr>\n",
       "      <th>1395</th>\n",
       "      <td>1335</td>\n",
       "      <td>JITENDRA VIRWANI</td>\n",
       "      <td>54.0</td>\n",
       "      <td>1.6</td>\n",
       "      <td>India</td>\n",
       "      <td>real estate</td>\n",
       "      <td>Real Estate</td>\n",
       "    </tr>\n",
       "    <tr>\n",
       "      <th>1712</th>\n",
       "      <td>1613</td>\n",
       "      <td>NIRANJAN HIRANANDANI</td>\n",
       "      <td>70.0</td>\n",
       "      <td>1.3</td>\n",
       "      <td>India</td>\n",
       "      <td>real estate</td>\n",
       "      <td>Real Estate</td>\n",
       "    </tr>\n",
       "    <tr>\n",
       "      <th>1716</th>\n",
       "      <td>1613</td>\n",
       "      <td>SUBHASH RUNWAL</td>\n",
       "      <td>76.0</td>\n",
       "      <td>1.3</td>\n",
       "      <td>India</td>\n",
       "      <td>real estate</td>\n",
       "      <td>Real Estate</td>\n",
       "    </tr>\n",
       "    <tr>\n",
       "      <th>1983</th>\n",
       "      <td>1851</td>\n",
       "      <td>MOFATRAJ MUNOT</td>\n",
       "      <td>75.0</td>\n",
       "      <td>1.1</td>\n",
       "      <td>India</td>\n",
       "      <td>real estate</td>\n",
       "      <td>Real Estate</td>\n",
       "    </tr>\n",
       "  </tbody>\n",
       "</table>\n",
       "</div>"
      ],
      "text/plain": [
       "      Rank                  Name   Age  Net Worth Country       Source  \\\n",
       "494    494      KUSHAL PAL SINGH  88.0        3.7   India  real estate   \n",
       "774    764        CHANDRU RAHEJA  79.0        2.7   India  real estate   \n",
       "1237  1196          VIKAS OBEROI  49.0        1.8   India  real estate   \n",
       "1253  1196  MANGAL PRABHAT LODHA  64.0        1.8   India  real estate   \n",
       "1395  1335      JITENDRA VIRWANI  54.0        1.6   India  real estate   \n",
       "1712  1613  NIRANJAN HIRANANDANI  70.0        1.3   India  real estate   \n",
       "1716  1613        SUBHASH RUNWAL  76.0        1.3   India  real estate   \n",
       "1983  1851        MOFATRAJ MUNOT  75.0        1.1   India  real estate   \n",
       "\n",
       "       Industries  \n",
       "494   Real Estate  \n",
       "774   Real Estate  \n",
       "1237  Real Estate  \n",
       "1253  Real Estate  \n",
       "1395  Real Estate  \n",
       "1712  Real Estate  \n",
       "1716  Real Estate  \n",
       "1983  Real Estate  "
      ]
     },
     "execution_count": 28,
     "metadata": {},
     "output_type": "execute_result"
    }
   ],
   "source": [
    "Indian_billionaires_realestate = IB[IB['Industries']=='Real Estate']\n",
    "Indian_billionaires_realestate"
   ]
  },
  {
   "cell_type": "markdown",
   "metadata": {},
   "source": [
    "# Q13. What is the total cumulative net worth of all the billionaires?"
   ]
  },
  {
   "cell_type": "code",
   "execution_count": 29,
   "metadata": {
    "ExecuteTime": {
     "end_time": "2020-11-19T05:36:05.126279Z",
     "start_time": "2020-11-19T05:36:05.020262Z"
    }
   },
   "outputs": [
    {
     "data": {
      "text/html": [
       "<div>\n",
       "<style scoped>\n",
       "    .dataframe tbody tr th:only-of-type {\n",
       "        vertical-align: middle;\n",
       "    }\n",
       "\n",
       "    .dataframe tbody tr th {\n",
       "        vertical-align: top;\n",
       "    }\n",
       "\n",
       "    .dataframe thead th {\n",
       "        text-align: right;\n",
       "    }\n",
       "</style>\n",
       "<table border=\"1\" class=\"dataframe\">\n",
       "  <thead>\n",
       "    <tr style=\"text-align: right;\">\n",
       "      <th></th>\n",
       "      <th>Rank</th>\n",
       "      <th>Name</th>\n",
       "      <th>Age</th>\n",
       "      <th>Net Worth</th>\n",
       "      <th>Country</th>\n",
       "      <th>Source</th>\n",
       "      <th>Industries</th>\n",
       "    </tr>\n",
       "  </thead>\n",
       "  <tbody>\n",
       "    <tr>\n",
       "      <th>494</th>\n",
       "      <td>494</td>\n",
       "      <td>KUSHAL PAL SINGH</td>\n",
       "      <td>88.0</td>\n",
       "      <td>3.7</td>\n",
       "      <td>India</td>\n",
       "      <td>real estate</td>\n",
       "      <td>Real Estate</td>\n",
       "    </tr>\n",
       "    <tr>\n",
       "      <th>774</th>\n",
       "      <td>764</td>\n",
       "      <td>CHANDRU RAHEJA</td>\n",
       "      <td>79.0</td>\n",
       "      <td>2.7</td>\n",
       "      <td>India</td>\n",
       "      <td>real estate</td>\n",
       "      <td>Real Estate</td>\n",
       "    </tr>\n",
       "  </tbody>\n",
       "</table>\n",
       "</div>"
      ],
      "text/plain": [
       "     Rank              Name   Age  Net Worth Country       Source   Industries\n",
       "494   494  KUSHAL PAL SINGH  88.0        3.7   India  real estate  Real Estate\n",
       "774   764    CHANDRU RAHEJA  79.0        2.7   India  real estate  Real Estate"
      ]
     },
     "execution_count": 29,
     "metadata": {},
     "output_type": "execute_result"
    }
   ],
   "source": [
    "Indian_billionaires_realestate[Indian_billionaires_realestate['Net Worth']>df[df['Name']=='DONALD TRUMP'].values[0][3]]"
   ]
  },
  {
   "cell_type": "markdown",
   "metadata": {},
   "source": [
    "# END"
   ]
  }
 ],
 "metadata": {
  "kernelspec": {
   "display_name": "Python 3",
   "language": "python",
   "name": "python3"
  },
  "language_info": {
   "codemirror_mode": {
    "name": "ipython",
    "version": 3
   },
   "file_extension": ".py",
   "mimetype": "text/x-python",
   "name": "python",
   "nbconvert_exporter": "python",
   "pygments_lexer": "ipython3",
   "version": "3.10.9"
  },
  "toc": {
   "base_numbering": 1,
   "nav_menu": {},
   "number_sections": true,
   "sideBar": true,
   "skip_h1_title": false,
   "title_cell": "Table of Contents",
   "title_sidebar": "Contents",
   "toc_cell": false,
   "toc_position": {},
   "toc_section_display": true,
   "toc_window_display": true
  },
  "varInspector": {
   "cols": {
    "lenName": 16,
    "lenType": 16,
    "lenVar": 40
   },
   "kernels_config": {
    "python": {
     "delete_cmd_postfix": "",
     "delete_cmd_prefix": "del ",
     "library": "var_list.py",
     "varRefreshCmd": "print(var_dic_list())"
    },
    "r": {
     "delete_cmd_postfix": ") ",
     "delete_cmd_prefix": "rm(",
     "library": "var_list.r",
     "varRefreshCmd": "cat(var_dic_list()) "
    }
   },
   "types_to_exclude": [
    "module",
    "function",
    "builtin_function_or_method",
    "instance",
    "_Feature"
   ],
   "window_display": false
  }
 },
 "nbformat": 4,
 "nbformat_minor": 4
}

{
 "cells": [
  {
   "cell_type": "markdown",
   "metadata": {},
   "source": [
    "### Imports"
   ]
  },
  {
   "cell_type": "code",
   "execution_count": 178,
   "metadata": {},
   "outputs": [],
   "source": [
    "import numpy as np\n",
    "import pandas as pd\n",
    "\n",
    "import matplotlib.pyplot as plt\n",
    "import seaborn as sns\n",
    "\n",
    "from sklearn import metrics"
   ]
  },
  {
   "cell_type": "markdown",
   "metadata": {},
   "source": [
    "### Dataset"
   ]
  },
  {
   "cell_type": "code",
   "execution_count": 134,
   "metadata": {},
   "outputs": [],
   "source": [
    "df= pd.read_csv('D:/Codes/Predictive Analysis/Module 3/house-prices-advanced-regression-techniques/train.csv')"
   ]
  },
  {
   "cell_type": "code",
   "execution_count": 135,
   "metadata": {},
   "outputs": [
    {
     "data": {
      "text/html": [
       "<div>\n",
       "<style scoped>\n",
       "    .dataframe tbody tr th:only-of-type {\n",
       "        vertical-align: middle;\n",
       "    }\n",
       "\n",
       "    .dataframe tbody tr th {\n",
       "        vertical-align: top;\n",
       "    }\n",
       "\n",
       "    .dataframe thead th {\n",
       "        text-align: right;\n",
       "    }\n",
       "</style>\n",
       "<table border=\"1\" class=\"dataframe\">\n",
       "  <thead>\n",
       "    <tr style=\"text-align: right;\">\n",
       "      <th></th>\n",
       "      <th>Id</th>\n",
       "      <th>MSSubClass</th>\n",
       "      <th>MSZoning</th>\n",
       "      <th>LotFrontage</th>\n",
       "      <th>LotArea</th>\n",
       "      <th>Street</th>\n",
       "      <th>Alley</th>\n",
       "      <th>LotShape</th>\n",
       "      <th>LandContour</th>\n",
       "      <th>Utilities</th>\n",
       "      <th>...</th>\n",
       "      <th>PoolArea</th>\n",
       "      <th>PoolQC</th>\n",
       "      <th>Fence</th>\n",
       "      <th>MiscFeature</th>\n",
       "      <th>MiscVal</th>\n",
       "      <th>MoSold</th>\n",
       "      <th>YrSold</th>\n",
       "      <th>SaleType</th>\n",
       "      <th>SaleCondition</th>\n",
       "      <th>SalePrice</th>\n",
       "    </tr>\n",
       "  </thead>\n",
       "  <tbody>\n",
       "    <tr>\n",
       "      <th>0</th>\n",
       "      <td>1</td>\n",
       "      <td>60</td>\n",
       "      <td>RL</td>\n",
       "      <td>65.0</td>\n",
       "      <td>8450</td>\n",
       "      <td>Pave</td>\n",
       "      <td>NaN</td>\n",
       "      <td>Reg</td>\n",
       "      <td>Lvl</td>\n",
       "      <td>AllPub</td>\n",
       "      <td>...</td>\n",
       "      <td>0</td>\n",
       "      <td>NaN</td>\n",
       "      <td>NaN</td>\n",
       "      <td>NaN</td>\n",
       "      <td>0</td>\n",
       "      <td>2</td>\n",
       "      <td>2008</td>\n",
       "      <td>WD</td>\n",
       "      <td>Normal</td>\n",
       "      <td>208500</td>\n",
       "    </tr>\n",
       "    <tr>\n",
       "      <th>1</th>\n",
       "      <td>2</td>\n",
       "      <td>20</td>\n",
       "      <td>RL</td>\n",
       "      <td>80.0</td>\n",
       "      <td>9600</td>\n",
       "      <td>Pave</td>\n",
       "      <td>NaN</td>\n",
       "      <td>Reg</td>\n",
       "      <td>Lvl</td>\n",
       "      <td>AllPub</td>\n",
       "      <td>...</td>\n",
       "      <td>0</td>\n",
       "      <td>NaN</td>\n",
       "      <td>NaN</td>\n",
       "      <td>NaN</td>\n",
       "      <td>0</td>\n",
       "      <td>5</td>\n",
       "      <td>2007</td>\n",
       "      <td>WD</td>\n",
       "      <td>Normal</td>\n",
       "      <td>181500</td>\n",
       "    </tr>\n",
       "    <tr>\n",
       "      <th>2</th>\n",
       "      <td>3</td>\n",
       "      <td>60</td>\n",
       "      <td>RL</td>\n",
       "      <td>68.0</td>\n",
       "      <td>11250</td>\n",
       "      <td>Pave</td>\n",
       "      <td>NaN</td>\n",
       "      <td>IR1</td>\n",
       "      <td>Lvl</td>\n",
       "      <td>AllPub</td>\n",
       "      <td>...</td>\n",
       "      <td>0</td>\n",
       "      <td>NaN</td>\n",
       "      <td>NaN</td>\n",
       "      <td>NaN</td>\n",
       "      <td>0</td>\n",
       "      <td>9</td>\n",
       "      <td>2008</td>\n",
       "      <td>WD</td>\n",
       "      <td>Normal</td>\n",
       "      <td>223500</td>\n",
       "    </tr>\n",
       "    <tr>\n",
       "      <th>3</th>\n",
       "      <td>4</td>\n",
       "      <td>70</td>\n",
       "      <td>RL</td>\n",
       "      <td>60.0</td>\n",
       "      <td>9550</td>\n",
       "      <td>Pave</td>\n",
       "      <td>NaN</td>\n",
       "      <td>IR1</td>\n",
       "      <td>Lvl</td>\n",
       "      <td>AllPub</td>\n",
       "      <td>...</td>\n",
       "      <td>0</td>\n",
       "      <td>NaN</td>\n",
       "      <td>NaN</td>\n",
       "      <td>NaN</td>\n",
       "      <td>0</td>\n",
       "      <td>2</td>\n",
       "      <td>2006</td>\n",
       "      <td>WD</td>\n",
       "      <td>Abnorml</td>\n",
       "      <td>140000</td>\n",
       "    </tr>\n",
       "    <tr>\n",
       "      <th>4</th>\n",
       "      <td>5</td>\n",
       "      <td>60</td>\n",
       "      <td>RL</td>\n",
       "      <td>84.0</td>\n",
       "      <td>14260</td>\n",
       "      <td>Pave</td>\n",
       "      <td>NaN</td>\n",
       "      <td>IR1</td>\n",
       "      <td>Lvl</td>\n",
       "      <td>AllPub</td>\n",
       "      <td>...</td>\n",
       "      <td>0</td>\n",
       "      <td>NaN</td>\n",
       "      <td>NaN</td>\n",
       "      <td>NaN</td>\n",
       "      <td>0</td>\n",
       "      <td>12</td>\n",
       "      <td>2008</td>\n",
       "      <td>WD</td>\n",
       "      <td>Normal</td>\n",
       "      <td>250000</td>\n",
       "    </tr>\n",
       "  </tbody>\n",
       "</table>\n",
       "<p>5 rows × 81 columns</p>\n",
       "</div>"
      ],
      "text/plain": [
       "   Id  MSSubClass MSZoning  LotFrontage  LotArea Street Alley LotShape  \\\n",
       "0   1          60       RL         65.0     8450   Pave   NaN      Reg   \n",
       "1   2          20       RL         80.0     9600   Pave   NaN      Reg   \n",
       "2   3          60       RL         68.0    11250   Pave   NaN      IR1   \n",
       "3   4          70       RL         60.0     9550   Pave   NaN      IR1   \n",
       "4   5          60       RL         84.0    14260   Pave   NaN      IR1   \n",
       "\n",
       "  LandContour Utilities  ... PoolArea PoolQC Fence MiscFeature MiscVal MoSold  \\\n",
       "0         Lvl    AllPub  ...        0    NaN   NaN         NaN       0      2   \n",
       "1         Lvl    AllPub  ...        0    NaN   NaN         NaN       0      5   \n",
       "2         Lvl    AllPub  ...        0    NaN   NaN         NaN       0      9   \n",
       "3         Lvl    AllPub  ...        0    NaN   NaN         NaN       0      2   \n",
       "4         Lvl    AllPub  ...        0    NaN   NaN         NaN       0     12   \n",
       "\n",
       "  YrSold  SaleType  SaleCondition  SalePrice  \n",
       "0   2008        WD         Normal     208500  \n",
       "1   2007        WD         Normal     181500  \n",
       "2   2008        WD         Normal     223500  \n",
       "3   2006        WD        Abnorml     140000  \n",
       "4   2008        WD         Normal     250000  \n",
       "\n",
       "[5 rows x 81 columns]"
      ]
     },
     "execution_count": 135,
     "metadata": {},
     "output_type": "execute_result"
    }
   ],
   "source": [
    "df.head()"
   ]
  },
  {
   "cell_type": "code",
   "execution_count": 136,
   "metadata": {},
   "outputs": [
    {
     "name": "stdout",
     "output_type": "stream",
     "text": [
      "<class 'pandas.core.frame.DataFrame'>\n",
      "RangeIndex: 1460 entries, 0 to 1459\n",
      "Data columns (total 81 columns):\n",
      " #   Column         Non-Null Count  Dtype  \n",
      "---  ------         --------------  -----  \n",
      " 0   Id             1460 non-null   int64  \n",
      " 1   MSSubClass     1460 non-null   int64  \n",
      " 2   MSZoning       1460 non-null   object \n",
      " 3   LotFrontage    1201 non-null   float64\n",
      " 4   LotArea        1460 non-null   int64  \n",
      " 5   Street         1460 non-null   object \n",
      " 6   Alley          91 non-null     object \n",
      " 7   LotShape       1460 non-null   object \n",
      " 8   LandContour    1460 non-null   object \n",
      " 9   Utilities      1460 non-null   object \n",
      " 10  LotConfig      1460 non-null   object \n",
      " 11  LandSlope      1460 non-null   object \n",
      " 12  Neighborhood   1460 non-null   object \n",
      " 13  Condition1     1460 non-null   object \n",
      " 14  Condition2     1460 non-null   object \n",
      " 15  BldgType       1460 non-null   object \n",
      " 16  HouseStyle     1460 non-null   object \n",
      " 17  OverallQual    1460 non-null   int64  \n",
      " 18  OverallCond    1460 non-null   int64  \n",
      " 19  YearBuilt      1460 non-null   int64  \n",
      " 20  YearRemodAdd   1460 non-null   int64  \n",
      " 21  RoofStyle      1460 non-null   object \n",
      " 22  RoofMatl       1460 non-null   object \n",
      " 23  Exterior1st    1460 non-null   object \n",
      " 24  Exterior2nd    1460 non-null   object \n",
      " 25  MasVnrType     1452 non-null   object \n",
      " 26  MasVnrArea     1452 non-null   float64\n",
      " 27  ExterQual      1460 non-null   object \n",
      " 28  ExterCond      1460 non-null   object \n",
      " 29  Foundation     1460 non-null   object \n",
      " 30  BsmtQual       1423 non-null   object \n",
      " 31  BsmtCond       1423 non-null   object \n",
      " 32  BsmtExposure   1422 non-null   object \n",
      " 33  BsmtFinType1   1423 non-null   object \n",
      " 34  BsmtFinSF1     1460 non-null   int64  \n",
      " 35  BsmtFinType2   1422 non-null   object \n",
      " 36  BsmtFinSF2     1460 non-null   int64  \n",
      " 37  BsmtUnfSF      1460 non-null   int64  \n",
      " 38  TotalBsmtSF    1460 non-null   int64  \n",
      " 39  Heating        1460 non-null   object \n",
      " 40  HeatingQC      1460 non-null   object \n",
      " 41  CentralAir     1460 non-null   object \n",
      " 42  Electrical     1459 non-null   object \n",
      " 43  1stFlrSF       1460 non-null   int64  \n",
      " 44  2ndFlrSF       1460 non-null   int64  \n",
      " 45  LowQualFinSF   1460 non-null   int64  \n",
      " 46  GrLivArea      1460 non-null   int64  \n",
      " 47  BsmtFullBath   1460 non-null   int64  \n",
      " 48  BsmtHalfBath   1460 non-null   int64  \n",
      " 49  FullBath       1460 non-null   int64  \n",
      " 50  HalfBath       1460 non-null   int64  \n",
      " 51  BedroomAbvGr   1460 non-null   int64  \n",
      " 52  KitchenAbvGr   1460 non-null   int64  \n",
      " 53  KitchenQual    1460 non-null   object \n",
      " 54  TotRmsAbvGrd   1460 non-null   int64  \n",
      " 55  Functional     1460 non-null   object \n",
      " 56  Fireplaces     1460 non-null   int64  \n",
      " 57  FireplaceQu    770 non-null    object \n",
      " 58  GarageType     1379 non-null   object \n",
      " 59  GarageYrBlt    1379 non-null   float64\n",
      " 60  GarageFinish   1379 non-null   object \n",
      " 61  GarageCars     1460 non-null   int64  \n",
      " 62  GarageArea     1460 non-null   int64  \n",
      " 63  GarageQual     1379 non-null   object \n",
      " 64  GarageCond     1379 non-null   object \n",
      " 65  PavedDrive     1460 non-null   object \n",
      " 66  WoodDeckSF     1460 non-null   int64  \n",
      " 67  OpenPorchSF    1460 non-null   int64  \n",
      " 68  EnclosedPorch  1460 non-null   int64  \n",
      " 69  3SsnPorch      1460 non-null   int64  \n",
      " 70  ScreenPorch    1460 non-null   int64  \n",
      " 71  PoolArea       1460 non-null   int64  \n",
      " 72  PoolQC         7 non-null      object \n",
      " 73  Fence          281 non-null    object \n",
      " 74  MiscFeature    54 non-null     object \n",
      " 75  MiscVal        1460 non-null   int64  \n",
      " 76  MoSold         1460 non-null   int64  \n",
      " 77  YrSold         1460 non-null   int64  \n",
      " 78  SaleType       1460 non-null   object \n",
      " 79  SaleCondition  1460 non-null   object \n",
      " 80  SalePrice      1460 non-null   int64  \n",
      "dtypes: float64(3), int64(35), object(43)\n",
      "memory usage: 924.0+ KB\n"
     ]
    }
   ],
   "source": [
    "df.info()"
   ]
  },
  {
   "cell_type": "code",
   "execution_count": 137,
   "metadata": {},
   "outputs": [
    {
     "data": {
      "text/plain": [
       "Index(['Id', 'MSSubClass', 'MSZoning', 'LotFrontage', 'LotArea', 'Street',\n",
       "       'Alley', 'LotShape', 'LandContour', 'Utilities', 'LotConfig',\n",
       "       'LandSlope', 'Neighborhood', 'Condition1', 'Condition2', 'BldgType',\n",
       "       'HouseStyle', 'OverallQual', 'OverallCond', 'YearBuilt', 'YearRemodAdd',\n",
       "       'RoofStyle', 'RoofMatl', 'Exterior1st', 'Exterior2nd', 'MasVnrType',\n",
       "       'MasVnrArea', 'ExterQual', 'ExterCond', 'Foundation', 'BsmtQual',\n",
       "       'BsmtCond', 'BsmtExposure', 'BsmtFinType1', 'BsmtFinSF1',\n",
       "       'BsmtFinType2', 'BsmtFinSF2', 'BsmtUnfSF', 'TotalBsmtSF', 'Heating',\n",
       "       'HeatingQC', 'CentralAir', 'Electrical', '1stFlrSF', '2ndFlrSF',\n",
       "       'LowQualFinSF', 'GrLivArea', 'BsmtFullBath', 'BsmtHalfBath', 'FullBath',\n",
       "       'HalfBath', 'BedroomAbvGr', 'KitchenAbvGr', 'KitchenQual',\n",
       "       'TotRmsAbvGrd', 'Functional', 'Fireplaces', 'FireplaceQu', 'GarageType',\n",
       "       'GarageYrBlt', 'GarageFinish', 'GarageCars', 'GarageArea', 'GarageQual',\n",
       "       'GarageCond', 'PavedDrive', 'WoodDeckSF', 'OpenPorchSF',\n",
       "       'EnclosedPorch', '3SsnPorch', 'ScreenPorch', 'PoolArea', 'PoolQC',\n",
       "       'Fence', 'MiscFeature', 'MiscVal', 'MoSold', 'YrSold', 'SaleType',\n",
       "       'SaleCondition', 'SalePrice'],\n",
       "      dtype='object')"
      ]
     },
     "execution_count": 137,
     "metadata": {},
     "output_type": "execute_result"
    }
   ],
   "source": [
    "df.columns"
   ]
  },
  {
   "cell_type": "code",
   "execution_count": 138,
   "metadata": {},
   "outputs": [],
   "source": [
    "# Get all numeric columns\n",
    "num_cols = df._get_numeric_data().columns.values.tolist()\n",
    "cat_cols = [col for col in list(df.columns) if col not in num_cols]"
   ]
  },
  {
   "cell_type": "code",
   "execution_count": 139,
   "metadata": {},
   "outputs": [
    {
     "data": {
      "text/plain": [
       "['MSZoning',\n",
       " 'Street',\n",
       " 'Alley',\n",
       " 'LotShape',\n",
       " 'LandContour',\n",
       " 'Utilities',\n",
       " 'LotConfig',\n",
       " 'LandSlope',\n",
       " 'Neighborhood',\n",
       " 'Condition1',\n",
       " 'Condition2',\n",
       " 'BldgType',\n",
       " 'HouseStyle',\n",
       " 'RoofStyle',\n",
       " 'RoofMatl',\n",
       " 'Exterior1st',\n",
       " 'Exterior2nd',\n",
       " 'MasVnrType',\n",
       " 'ExterQual',\n",
       " 'ExterCond',\n",
       " 'Foundation',\n",
       " 'BsmtQual',\n",
       " 'BsmtCond',\n",
       " 'BsmtExposure',\n",
       " 'BsmtFinType1',\n",
       " 'BsmtFinType2',\n",
       " 'Heating',\n",
       " 'HeatingQC',\n",
       " 'CentralAir',\n",
       " 'Electrical',\n",
       " 'KitchenQual',\n",
       " 'Functional',\n",
       " 'FireplaceQu',\n",
       " 'GarageType',\n",
       " 'GarageFinish',\n",
       " 'GarageQual',\n",
       " 'GarageCond',\n",
       " 'PavedDrive',\n",
       " 'PoolQC',\n",
       " 'Fence',\n",
       " 'MiscFeature',\n",
       " 'SaleType',\n",
       " 'SaleCondition']"
      ]
     },
     "execution_count": 139,
     "metadata": {},
     "output_type": "execute_result"
    }
   ],
   "source": [
    "cat_cols"
   ]
  },
  {
   "cell_type": "markdown",
   "metadata": {},
   "source": [
    "### Preprocessing"
   ]
  },
  {
   "cell_type": "markdown",
   "metadata": {},
   "source": [
    "#### Null values"
   ]
  },
  {
   "cell_type": "code",
   "execution_count": 142,
   "metadata": {},
   "outputs": [
    {
     "data": {
      "text/plain": [
       "Id                 0\n",
       "MSSubClass         0\n",
       "MSZoning           0\n",
       "LotFrontage      259\n",
       "LotArea            0\n",
       "                ... \n",
       "MoSold             0\n",
       "YrSold             0\n",
       "SaleType           0\n",
       "SaleCondition      0\n",
       "SalePrice          0\n",
       "Length: 81, dtype: int64"
      ]
     },
     "execution_count": 142,
     "metadata": {},
     "output_type": "execute_result"
    }
   ],
   "source": [
    "df.isnull().sum()"
   ]
  },
  {
   "cell_type": "code",
   "execution_count": 143,
   "metadata": {},
   "outputs": [
    {
     "data": {
      "text/plain": [
       "<Axes: xlabel='LotFrontage'>"
      ]
     },
     "execution_count": 143,
     "metadata": {},
     "output_type": "execute_result"
    },
    {
     "data": {
      "image/png": "[encoded data removed]",
      "text/plain": [
       "<Figure size 640x480 with 1 Axes>"
      ]
     },
     "metadata": {},
     "output_type": "display_data"
    }
   ],
   "source": [
    "sns.boxplot(x= df['LotFrontage'])"
   ]
  },
  {
   "cell_type": "code",
   "execution_count": 144,
   "metadata": {},
   "outputs": [
    {
     "data": {
      "text/plain": [
       "<Axes: xlabel='MasVnrArea'>"
      ]
     },
     "execution_count": 144,
     "metadata": {},
     "output_type": "execute_result"
    },
    {
     "data": {
      "image/png": "[encoded data removed]",
      "text/plain": [
       "<Figure size 640x480 with 1 Axes>"
      ]
     },
     "metadata": {},
     "output_type": "display_data"
    }
   ],
   "source": [
    "sns.boxplot(x= df['MasVnrArea'])"
   ]
  },
  {
   "cell_type": "code",
   "execution_count": 145,
   "metadata": {},
   "outputs": [
    {
     "data": {
      "text/plain": [
       "<Axes: xlabel='GarageYrBlt'>"
      ]
     },
     "execution_count": 145,
     "metadata": {},
     "output_type": "execute_result"
    },
    {
     "data": {
      "image/png": "[encoded data removed]",
      "text/plain": [
       "<Figure size 640x480 with 1 Axes>"
      ]
     },
     "metadata": {},
     "output_type": "display_data"
    }
   ],
   "source": [
    "sns.boxplot(x= df['GarageYrBlt'])"
   ]
  },
  {
   "cell_type": "code",
   "execution_count": 146,
   "metadata": {},
   "outputs": [],
   "source": [
    "# Fillna"
   ]
  },
  {
   "cell_type": "code",
   "execution_count": 147,
   "metadata": {},
   "outputs": [],
   "source": [
    "df['LotFrontage'].fillna(df['LotFrontage'].mode(), inplace=True)\n",
    "df['MasVnrArea'].fillna(df['MasVnrArea'].mode(), inplace=True)\n",
    "df['GarageYrBlt'].fillna(df['GarageYrBlt'].mode(), inplace=True)"
   ]
  },
  {
   "cell_type": "code",
   "execution_count": 148,
   "metadata": {},
   "outputs": [
    {
     "data": {
      "text/plain": [
       "<Axes: xlabel='LotFrontage'>"
      ]
     },
     "execution_count": 148,
     "metadata": {},
     "output_type": "execute_result"
    },
    {
     "data": {
      "image/png": "[encoded data removed]",
      "text/plain": [
       "<Figure size 640x480 with 1 Axes>"
      ]
     },
     "metadata": {},
     "output_type": "display_data"
    }
   ],
   "source": [
    "sns.boxplot(x=df['LotFrontage'])"
   ]
  },
  {
   "cell_type": "code",
   "execution_count": 149,
   "metadata": {},
   "outputs": [
    {
     "data": {
      "text/plain": [
       "<Axes: xlabel='MasVnrArea'>"
      ]
     },
     "execution_count": 149,
     "metadata": {},
     "output_type": "execute_result"
    },
    {
     "data": {
      "image/png": "[encoded data removed]",
      "text/plain": [
       "<Figure size 640x480 with 1 Axes>"
      ]
     },
     "metadata": {},
     "output_type": "display_data"
    }
   ],
   "source": [
    "sns.boxplot(x=df['MasVnrArea'])"
   ]
  },
  {
   "cell_type": "code",
   "execution_count": 150,
   "metadata": {},
   "outputs": [
    {
     "data": {
      "text/plain": [
       "<Axes: xlabel='GarageYrBlt'>"
      ]
     },
     "execution_count": 150,
     "metadata": {},
     "output_type": "execute_result"
    },
    {
     "data": {
      "image/png": "[encoded data removed]",
      "text/plain": [
       "<Figure size 640x480 with 1 Axes>"
      ]
     },
     "metadata": {},
     "output_type": "display_data"
    }
   ],
   "source": [
    "sns.boxplot(x=df['GarageYrBlt'])"
   ]
  },
  {
   "cell_type": "markdown",
   "metadata": {},
   "source": [
    "#####  Log transformation"
   ]
  },
  {
   "cell_type": "code",
   "execution_count": 152,
   "metadata": {},
   "outputs": [
    {
     "name": "stderr",
     "output_type": "stream",
     "text": [
      "c:\\Users\\Msc 2\\anaconda3\\lib\\site-packages\\pandas\\core\\arraylike.py:402: RuntimeWarning: divide by zero encountered in log\n",
      "  result = getattr(ufunc, method)(*inputs, **kwargs)\n"
     ]
    }
   ],
   "source": [
    "df['MasVnrArea'] = np.log(df['MasVnrArea'])"
   ]
  },
  {
   "cell_type": "code",
   "execution_count": 153,
   "metadata": {},
   "outputs": [],
   "source": [
    "df['MasVnrArea'] = df['MasVnrArea'].replace(-np.inf, 0)"
   ]
  },
  {
   "cell_type": "code",
   "execution_count": 154,
   "metadata": {},
   "outputs": [
    {
     "data": {
      "text/plain": [
       "<Axes: xlabel='MasVnrArea'>"
      ]
     },
     "execution_count": 154,
     "metadata": {},
     "output_type": "execute_result"
    },
    {
     "data": {
      "image/png": "[encoded data removed]",
      "text/plain": [
       "<Figure size 640x480 with 1 Axes>"
      ]
     },
     "metadata": {},
     "output_type": "display_data"
    }
   ],
   "source": [
    "sns.boxplot(x=df['MasVnrArea'])"
   ]
  },
  {
   "cell_type": "code",
   "execution_count": 155,
   "metadata": {},
   "outputs": [],
   "source": [
    "df['LotFrontage'] = np.log(df['LotFrontage'])"
   ]
  },
  {
   "cell_type": "code",
   "execution_count": 156,
   "metadata": {},
   "outputs": [
    {
     "data": {
      "text/plain": [
       "<Axes: xlabel='LotFrontage'>"
      ]
     },
     "execution_count": 156,
     "metadata": {},
     "output_type": "execute_result"
    },
    {
     "data": {
      "image/png": "[encoded data removed]",
      "text/plain": [
       "<Figure size 640x480 with 1 Axes>"
      ]
     },
     "metadata": {},
     "output_type": "display_data"
    }
   ],
   "source": [
    "sns.boxplot(x=df['LotFrontage'])"
   ]
  },
  {
   "cell_type": "code",
   "execution_count": 157,
   "metadata": {},
   "outputs": [],
   "source": [
    "df['GarageYrBlt'] = np.log(df['GarageYrBlt'])"
   ]
  },
  {
   "cell_type": "code",
   "execution_count": 158,
   "metadata": {},
   "outputs": [
    {
     "data": {
      "text/plain": [
       "<Axes: xlabel='GarageYrBlt'>"
      ]
     },
     "execution_count": 158,
     "metadata": {},
     "output_type": "execute_result"
    },
    {
     "data": {
      "image/png": "[encoded data removed]",
      "text/plain": [
       "<Figure size 640x480 with 1 Axes>"
      ]
     },
     "metadata": {},
     "output_type": "display_data"
    }
   ],
   "source": [
    "sns.boxplot(x=df['GarageYrBlt'])"
   ]
  },
  {
   "cell_type": "markdown",
   "metadata": {},
   "source": [
    "##### Dropping columns that have many missing values"
   ]
  },
  {
   "cell_type": "code",
   "execution_count": 160,
   "metadata": {},
   "outputs": [],
   "source": [
    "df = df.drop(['Alley', 'PoolQC','Fence','MiscFeature'], axis= 1)\n",
    "\n",
    "for i in ['Alley', 'PoolQC','Fence','MiscFeature']:\n",
    "    cat_cols.remove(i)"
   ]
  },
  {
   "cell_type": "markdown",
   "metadata": {},
   "source": [
    "##### Filling Null Values"
   ]
  },
  {
   "cell_type": "code",
   "execution_count": 162,
   "metadata": {},
   "outputs": [],
   "source": [
    "for i in list(df.columns):\n",
    "    df[i].fillna(df[i].mode()[0], inplace=True)"
   ]
  },
  {
   "cell_type": "code",
   "execution_count": 163,
   "metadata": {},
   "outputs": [
    {
     "data": {
      "text/plain": [
       "0"
      ]
     },
     "execution_count": 163,
     "metadata": {},
     "output_type": "execute_result"
    }
   ],
   "source": [
    "df.isnull().sum().sum()"
   ]
  },
  {
   "cell_type": "code",
   "execution_count": 164,
   "metadata": {},
   "outputs": [
    {
     "data": {
      "text/plain": [
       "MSZoning          5\n",
       "Street            2\n",
       "LotShape          4\n",
       "LandContour       4\n",
       "Utilities         2\n",
       "LotConfig         5\n",
       "LandSlope         3\n",
       "Neighborhood     25\n",
       "Condition1        9\n",
       "Condition2        8\n",
       "BldgType          5\n",
       "HouseStyle        8\n",
       "RoofStyle         6\n",
       "RoofMatl          8\n",
       "Exterior1st      15\n",
       "Exterior2nd      16\n",
       "MasVnrType        4\n",
       "ExterQual         4\n",
       "ExterCond         5\n",
       "Foundation        6\n",
       "BsmtQual          4\n",
       "BsmtCond          4\n",
       "BsmtExposure      4\n",
       "BsmtFinType1      6\n",
       "BsmtFinType2      6\n",
       "Heating           6\n",
       "HeatingQC         5\n",
       "CentralAir        2\n",
       "Electrical        5\n",
       "KitchenQual       4\n",
       "Functional        7\n",
       "FireplaceQu       5\n",
       "GarageType        6\n",
       "GarageFinish      3\n",
       "GarageQual        5\n",
       "GarageCond        5\n",
       "PavedDrive        3\n",
       "SaleType          9\n",
       "SaleCondition     6\n",
       "dtype: int64"
      ]
     },
     "execution_count": 164,
     "metadata": {},
     "output_type": "execute_result"
    }
   ],
   "source": [
    "df[cat_cols].nunique()"
   ]
  },
  {
   "cell_type": "markdown",
   "metadata": {},
   "source": [
    "#### Label Encoding"
   ]
  },
  {
   "cell_type": "code",
   "execution_count": 166,
   "metadata": {},
   "outputs": [],
   "source": [
    "from sklearn.preprocessing import LabelEncoder\n",
    "\n",
    "le= LabelEncoder()\n",
    "\n",
    "for i in ['MSZoning', 'Street', 'LotShape', 'LandContour', 'Utilities', 'LotConfig', 'LandSlope', 'BldgType', 'RoofStyle', 'MasVnrType', 'ExterQual', 'ExterCond', 'Foundation', 'BsmtQual', 'BsmtCond', 'BsmtExposure', 'BsmtFinType1', 'BsmtFinType2', 'Heating', 'HeatingQC', 'CentralAir', 'Electrical', 'KitchenQual', 'FireplaceQu', 'GarageType', 'GarageFinish', 'GarageQual', 'GarageCond', 'PavedDrive', 'SaleCondition']:\n",
    "    df[i]= le.fit_transform(df[i])"
   ]
  },
  {
   "cell_type": "code",
   "execution_count": 168,
   "metadata": {},
   "outputs": [],
   "source": [
    "df_encoded= pd.get_dummies(df)"
   ]
  },
  {
   "cell_type": "code",
   "execution_count": 169,
   "metadata": {},
   "outputs": [
    {
     "data": {
      "text/html": [
       "<div>\n",
       "<style scoped>\n",
       "    .dataframe tbody tr th:only-of-type {\n",
       "        vertical-align: middle;\n",
       "    }\n",
       "\n",
       "    .dataframe tbody tr th {\n",
       "        vertical-align: top;\n",
       "    }\n",
       "\n",
       "    .dataframe thead th {\n",
       "        text-align: right;\n",
       "    }\n",
       "</style>\n",
       "<table border=\"1\" class=\"dataframe\">\n",
       "  <thead>\n",
       "    <tr style=\"text-align: right;\">\n",
       "      <th></th>\n",
       "      <th>Id</th>\n",
       "      <th>MSSubClass</th>\n",
       "      <th>MSZoning</th>\n",
       "      <th>LotFrontage</th>\n",
       "      <th>LotArea</th>\n",
       "      <th>Street</th>\n",
       "      <th>LotShape</th>\n",
       "      <th>LandContour</th>\n",
       "      <th>Utilities</th>\n",
       "      <th>LotConfig</th>\n",
       "      <th>...</th>\n",
       "      <th>Functional_Typ</th>\n",
       "      <th>SaleType_COD</th>\n",
       "      <th>SaleType_CWD</th>\n",
       "      <th>SaleType_Con</th>\n",
       "      <th>SaleType_ConLD</th>\n",
       "      <th>SaleType_ConLI</th>\n",
       "      <th>SaleType_ConLw</th>\n",
       "      <th>SaleType_New</th>\n",
       "      <th>SaleType_Oth</th>\n",
       "      <th>SaleType_WD</th>\n",
       "    </tr>\n",
       "  </thead>\n",
       "  <tbody>\n",
       "    <tr>\n",
       "      <th>0</th>\n",
       "      <td>1</td>\n",
       "      <td>60</td>\n",
       "      <td>3</td>\n",
       "      <td>4.174387</td>\n",
       "      <td>8450</td>\n",
       "      <td>1</td>\n",
       "      <td>3</td>\n",
       "      <td>3</td>\n",
       "      <td>0</td>\n",
       "      <td>4</td>\n",
       "      <td>...</td>\n",
       "      <td>1</td>\n",
       "      <td>0</td>\n",
       "      <td>0</td>\n",
       "      <td>0</td>\n",
       "      <td>0</td>\n",
       "      <td>0</td>\n",
       "      <td>0</td>\n",
       "      <td>0</td>\n",
       "      <td>0</td>\n",
       "      <td>1</td>\n",
       "    </tr>\n",
       "    <tr>\n",
       "      <th>1</th>\n",
       "      <td>2</td>\n",
       "      <td>20</td>\n",
       "      <td>3</td>\n",
       "      <td>4.382027</td>\n",
       "      <td>9600</td>\n",
       "      <td>1</td>\n",
       "      <td>3</td>\n",
       "      <td>3</td>\n",
       "      <td>0</td>\n",
       "      <td>2</td>\n",
       "      <td>...</td>\n",
       "      <td>1</td>\n",
       "      <td>0</td>\n",
       "      <td>0</td>\n",
       "      <td>0</td>\n",
       "      <td>0</td>\n",
       "      <td>0</td>\n",
       "      <td>0</td>\n",
       "      <td>0</td>\n",
       "      <td>0</td>\n",
       "      <td>1</td>\n",
       "    </tr>\n",
       "    <tr>\n",
       "      <th>2</th>\n",
       "      <td>3</td>\n",
       "      <td>60</td>\n",
       "      <td>3</td>\n",
       "      <td>4.219508</td>\n",
       "      <td>11250</td>\n",
       "      <td>1</td>\n",
       "      <td>0</td>\n",
       "      <td>3</td>\n",
       "      <td>0</td>\n",
       "      <td>4</td>\n",
       "      <td>...</td>\n",
       "      <td>1</td>\n",
       "      <td>0</td>\n",
       "      <td>0</td>\n",
       "      <td>0</td>\n",
       "      <td>0</td>\n",
       "      <td>0</td>\n",
       "      <td>0</td>\n",
       "      <td>0</td>\n",
       "      <td>0</td>\n",
       "      <td>1</td>\n",
       "    </tr>\n",
       "    <tr>\n",
       "      <th>3</th>\n",
       "      <td>4</td>\n",
       "      <td>70</td>\n",
       "      <td>3</td>\n",
       "      <td>4.094345</td>\n",
       "      <td>9550</td>\n",
       "      <td>1</td>\n",
       "      <td>0</td>\n",
       "      <td>3</td>\n",
       "      <td>0</td>\n",
       "      <td>0</td>\n",
       "      <td>...</td>\n",
       "      <td>1</td>\n",
       "      <td>0</td>\n",
       "      <td>0</td>\n",
       "      <td>0</td>\n",
       "      <td>0</td>\n",
       "      <td>0</td>\n",
       "      <td>0</td>\n",
       "      <td>0</td>\n",
       "      <td>0</td>\n",
       "      <td>1</td>\n",
       "    </tr>\n",
       "    <tr>\n",
       "      <th>4</th>\n",
       "      <td>5</td>\n",
       "      <td>60</td>\n",
       "      <td>3</td>\n",
       "      <td>4.430817</td>\n",
       "      <td>14260</td>\n",
       "      <td>1</td>\n",
       "      <td>0</td>\n",
       "      <td>3</td>\n",
       "      <td>0</td>\n",
       "      <td>2</td>\n",
       "      <td>...</td>\n",
       "      <td>1</td>\n",
       "      <td>0</td>\n",
       "      <td>0</td>\n",
       "      <td>0</td>\n",
       "      <td>0</td>\n",
       "      <td>0</td>\n",
       "      <td>0</td>\n",
       "      <td>0</td>\n",
       "      <td>0</td>\n",
       "      <td>1</td>\n",
       "    </tr>\n",
       "    <tr>\n",
       "      <th>...</th>\n",
       "      <td>...</td>\n",
       "      <td>...</td>\n",
       "      <td>...</td>\n",
       "      <td>...</td>\n",
       "      <td>...</td>\n",
       "      <td>...</td>\n",
       "      <td>...</td>\n",
       "      <td>...</td>\n",
       "      <td>...</td>\n",
       "      <td>...</td>\n",
       "      <td>...</td>\n",
       "      <td>...</td>\n",
       "      <td>...</td>\n",
       "      <td>...</td>\n",
       "      <td>...</td>\n",
       "      <td>...</td>\n",
       "      <td>...</td>\n",
       "      <td>...</td>\n",
       "      <td>...</td>\n",
       "      <td>...</td>\n",
       "      <td>...</td>\n",
       "    </tr>\n",
       "    <tr>\n",
       "      <th>1455</th>\n",
       "      <td>1456</td>\n",
       "      <td>60</td>\n",
       "      <td>3</td>\n",
       "      <td>4.127134</td>\n",
       "      <td>7917</td>\n",
       "      <td>1</td>\n",
       "      <td>3</td>\n",
       "      <td>3</td>\n",
       "      <td>0</td>\n",
       "      <td>4</td>\n",
       "      <td>...</td>\n",
       "      <td>1</td>\n",
       "      <td>0</td>\n",
       "      <td>0</td>\n",
       "      <td>0</td>\n",
       "      <td>0</td>\n",
       "      <td>0</td>\n",
       "      <td>0</td>\n",
       "      <td>0</td>\n",
       "      <td>0</td>\n",
       "      <td>1</td>\n",
       "    </tr>\n",
       "    <tr>\n",
       "      <th>1456</th>\n",
       "      <td>1457</td>\n",
       "      <td>20</td>\n",
       "      <td>3</td>\n",
       "      <td>4.442651</td>\n",
       "      <td>13175</td>\n",
       "      <td>1</td>\n",
       "      <td>3</td>\n",
       "      <td>3</td>\n",
       "      <td>0</td>\n",
       "      <td>4</td>\n",
       "      <td>...</td>\n",
       "      <td>0</td>\n",
       "      <td>0</td>\n",
       "      <td>0</td>\n",
       "      <td>0</td>\n",
       "      <td>0</td>\n",
       "      <td>0</td>\n",
       "      <td>0</td>\n",
       "      <td>0</td>\n",
       "      <td>0</td>\n",
       "      <td>1</td>\n",
       "    </tr>\n",
       "    <tr>\n",
       "      <th>1457</th>\n",
       "      <td>1458</td>\n",
       "      <td>70</td>\n",
       "      <td>3</td>\n",
       "      <td>4.189655</td>\n",
       "      <td>9042</td>\n",
       "      <td>1</td>\n",
       "      <td>3</td>\n",
       "      <td>3</td>\n",
       "      <td>0</td>\n",
       "      <td>4</td>\n",
       "      <td>...</td>\n",
       "      <td>1</td>\n",
       "      <td>0</td>\n",
       "      <td>0</td>\n",
       "      <td>0</td>\n",
       "      <td>0</td>\n",
       "      <td>0</td>\n",
       "      <td>0</td>\n",
       "      <td>0</td>\n",
       "      <td>0</td>\n",
       "      <td>1</td>\n",
       "    </tr>\n",
       "    <tr>\n",
       "      <th>1458</th>\n",
       "      <td>1459</td>\n",
       "      <td>20</td>\n",
       "      <td>3</td>\n",
       "      <td>4.219508</td>\n",
       "      <td>9717</td>\n",
       "      <td>1</td>\n",
       "      <td>3</td>\n",
       "      <td>3</td>\n",
       "      <td>0</td>\n",
       "      <td>4</td>\n",
       "      <td>...</td>\n",
       "      <td>1</td>\n",
       "      <td>0</td>\n",
       "      <td>0</td>\n",
       "      <td>0</td>\n",
       "      <td>0</td>\n",
       "      <td>0</td>\n",
       "      <td>0</td>\n",
       "      <td>0</td>\n",
       "      <td>0</td>\n",
       "      <td>1</td>\n",
       "    </tr>\n",
       "    <tr>\n",
       "      <th>1459</th>\n",
       "      <td>1460</td>\n",
       "      <td>20</td>\n",
       "      <td>3</td>\n",
       "      <td>4.317488</td>\n",
       "      <td>9937</td>\n",
       "      <td>1</td>\n",
       "      <td>3</td>\n",
       "      <td>3</td>\n",
       "      <td>0</td>\n",
       "      <td>4</td>\n",
       "      <td>...</td>\n",
       "      <td>1</td>\n",
       "      <td>0</td>\n",
       "      <td>0</td>\n",
       "      <td>0</td>\n",
       "      <td>0</td>\n",
       "      <td>0</td>\n",
       "      <td>0</td>\n",
       "      <td>0</td>\n",
       "      <td>0</td>\n",
       "      <td>1</td>\n",
       "    </tr>\n",
       "  </tbody>\n",
       "</table>\n",
       "<p>1460 rows × 173 columns</p>\n",
       "</div>"
      ],
      "text/plain": [
       "        Id  MSSubClass  MSZoning  LotFrontage  LotArea  Street  LotShape  \\\n",
       "0        1          60         3     4.174387     8450       1         3   \n",
       "1        2          20         3     4.382027     9600       1         3   \n",
       "2        3          60         3     4.219508    11250       1         0   \n",
       "3        4          70         3     4.094345     9550       1         0   \n",
       "4        5          60         3     4.430817    14260       1         0   \n",
       "...    ...         ...       ...          ...      ...     ...       ...   \n",
       "1455  1456          60         3     4.127134     7917       1         3   \n",
       "1456  1457          20         3     4.442651    13175       1         3   \n",
       "1457  1458          70         3     4.189655     9042       1         3   \n",
       "1458  1459          20         3     4.219508     9717       1         3   \n",
       "1459  1460          20         3     4.317488     9937       1         3   \n",
       "\n",
       "      LandContour  Utilities  LotConfig  ...  Functional_Typ  SaleType_COD  \\\n",
       "0               3          0          4  ...               1             0   \n",
       "1               3          0          2  ...               1             0   \n",
       "2               3          0          4  ...               1             0   \n",
       "3               3          0          0  ...               1             0   \n",
       "4               3          0          2  ...               1             0   \n",
       "...           ...        ...        ...  ...             ...           ...   \n",
       "1455            3          0          4  ...               1             0   \n",
       "1456            3          0          4  ...               0             0   \n",
       "1457            3          0          4  ...               1             0   \n",
       "1458            3          0          4  ...               1             0   \n",
       "1459            3          0          4  ...               1             0   \n",
       "\n",
       "      SaleType_CWD  SaleType_Con  SaleType_ConLD  SaleType_ConLI  \\\n",
       "0                0             0               0               0   \n",
       "1                0             0               0               0   \n",
       "2                0             0               0               0   \n",
       "3                0             0               0               0   \n",
       "4                0             0               0               0   \n",
       "...            ...           ...             ...             ...   \n",
       "1455             0             0               0               0   \n",
       "1456             0             0               0               0   \n",
       "1457             0             0               0               0   \n",
       "1458             0             0               0               0   \n",
       "1459             0             0               0               0   \n",
       "\n",
       "      SaleType_ConLw  SaleType_New  SaleType_Oth  SaleType_WD  \n",
       "0                  0             0             0            1  \n",
       "1                  0             0             0            1  \n",
       "2                  0             0             0            1  \n",
       "3                  0             0             0            1  \n",
       "4                  0             0             0            1  \n",
       "...              ...           ...           ...          ...  \n",
       "1455               0             0             0            1  \n",
       "1456               0             0             0            1  \n",
       "1457               0             0             0            1  \n",
       "1458               0             0             0            1  \n",
       "1459               0             0             0            1  \n",
       "\n",
       "[1460 rows x 173 columns]"
      ]
     },
     "execution_count": 169,
     "metadata": {},
     "output_type": "execute_result"
    }
   ],
   "source": [
    "pd.get_dummies(df)"
   ]
  },
  {
   "cell_type": "code",
   "execution_count": 170,
   "metadata": {},
   "outputs": [
    {
     "data": {
      "text/html": [
       "<div>\n",
       "<style scoped>\n",
       "    .dataframe tbody tr th:only-of-type {\n",
       "        vertical-align: middle;\n",
       "    }\n",
       "\n",
       "    .dataframe tbody tr th {\n",
       "        vertical-align: top;\n",
       "    }\n",
       "\n",
       "    .dataframe thead th {\n",
       "        text-align: right;\n",
       "    }\n",
       "</style>\n",
       "<table border=\"1\" class=\"dataframe\">\n",
       "  <thead>\n",
       "    <tr style=\"text-align: right;\">\n",
       "      <th></th>\n",
       "      <th>Id</th>\n",
       "      <th>MSSubClass</th>\n",
       "      <th>MSZoning</th>\n",
       "      <th>LotFrontage</th>\n",
       "      <th>LotArea</th>\n",
       "      <th>Street</th>\n",
       "      <th>LotShape</th>\n",
       "      <th>LandContour</th>\n",
       "      <th>Utilities</th>\n",
       "      <th>LotConfig</th>\n",
       "      <th>...</th>\n",
       "      <th>Functional_Typ</th>\n",
       "      <th>SaleType_COD</th>\n",
       "      <th>SaleType_CWD</th>\n",
       "      <th>SaleType_Con</th>\n",
       "      <th>SaleType_ConLD</th>\n",
       "      <th>SaleType_ConLI</th>\n",
       "      <th>SaleType_ConLw</th>\n",
       "      <th>SaleType_New</th>\n",
       "      <th>SaleType_Oth</th>\n",
       "      <th>SaleType_WD</th>\n",
       "    </tr>\n",
       "  </thead>\n",
       "  <tbody>\n",
       "    <tr>\n",
       "      <th>0</th>\n",
       "      <td>1</td>\n",
       "      <td>60</td>\n",
       "      <td>3</td>\n",
       "      <td>4.174387</td>\n",
       "      <td>8450</td>\n",
       "      <td>1</td>\n",
       "      <td>3</td>\n",
       "      <td>3</td>\n",
       "      <td>0</td>\n",
       "      <td>4</td>\n",
       "      <td>...</td>\n",
       "      <td>1</td>\n",
       "      <td>0</td>\n",
       "      <td>0</td>\n",
       "      <td>0</td>\n",
       "      <td>0</td>\n",
       "      <td>0</td>\n",
       "      <td>0</td>\n",
       "      <td>0</td>\n",
       "      <td>0</td>\n",
       "      <td>1</td>\n",
       "    </tr>\n",
       "    <tr>\n",
       "      <th>1</th>\n",
       "      <td>2</td>\n",
       "      <td>20</td>\n",
       "      <td>3</td>\n",
       "      <td>4.382027</td>\n",
       "      <td>9600</td>\n",
       "      <td>1</td>\n",
       "      <td>3</td>\n",
       "      <td>3</td>\n",
       "      <td>0</td>\n",
       "      <td>2</td>\n",
       "      <td>...</td>\n",
       "      <td>1</td>\n",
       "      <td>0</td>\n",
       "      <td>0</td>\n",
       "      <td>0</td>\n",
       "      <td>0</td>\n",
       "      <td>0</td>\n",
       "      <td>0</td>\n",
       "      <td>0</td>\n",
       "      <td>0</td>\n",
       "      <td>1</td>\n",
       "    </tr>\n",
       "    <tr>\n",
       "      <th>2</th>\n",
       "      <td>3</td>\n",
       "      <td>60</td>\n",
       "      <td>3</td>\n",
       "      <td>4.219508</td>\n",
       "      <td>11250</td>\n",
       "      <td>1</td>\n",
       "      <td>0</td>\n",
       "      <td>3</td>\n",
       "      <td>0</td>\n",
       "      <td>4</td>\n",
       "      <td>...</td>\n",
       "      <td>1</td>\n",
       "      <td>0</td>\n",
       "      <td>0</td>\n",
       "      <td>0</td>\n",
       "      <td>0</td>\n",
       "      <td>0</td>\n",
       "      <td>0</td>\n",
       "      <td>0</td>\n",
       "      <td>0</td>\n",
       "      <td>1</td>\n",
       "    </tr>\n",
       "    <tr>\n",
       "      <th>3</th>\n",
       "      <td>4</td>\n",
       "      <td>70</td>\n",
       "      <td>3</td>\n",
       "      <td>4.094345</td>\n",
       "      <td>9550</td>\n",
       "      <td>1</td>\n",
       "      <td>0</td>\n",
       "      <td>3</td>\n",
       "      <td>0</td>\n",
       "      <td>0</td>\n",
       "      <td>...</td>\n",
       "      <td>1</td>\n",
       "      <td>0</td>\n",
       "      <td>0</td>\n",
       "      <td>0</td>\n",
       "      <td>0</td>\n",
       "      <td>0</td>\n",
       "      <td>0</td>\n",
       "      <td>0</td>\n",
       "      <td>0</td>\n",
       "      <td>1</td>\n",
       "    </tr>\n",
       "    <tr>\n",
       "      <th>4</th>\n",
       "      <td>5</td>\n",
       "      <td>60</td>\n",
       "      <td>3</td>\n",
       "      <td>4.430817</td>\n",
       "      <td>14260</td>\n",
       "      <td>1</td>\n",
       "      <td>0</td>\n",
       "      <td>3</td>\n",
       "      <td>0</td>\n",
       "      <td>2</td>\n",
       "      <td>...</td>\n",
       "      <td>1</td>\n",
       "      <td>0</td>\n",
       "      <td>0</td>\n",
       "      <td>0</td>\n",
       "      <td>0</td>\n",
       "      <td>0</td>\n",
       "      <td>0</td>\n",
       "      <td>0</td>\n",
       "      <td>0</td>\n",
       "      <td>1</td>\n",
       "    </tr>\n",
       "    <tr>\n",
       "      <th>...</th>\n",
       "      <td>...</td>\n",
       "      <td>...</td>\n",
       "      <td>...</td>\n",
       "      <td>...</td>\n",
       "      <td>...</td>\n",
       "      <td>...</td>\n",
       "      <td>...</td>\n",
       "      <td>...</td>\n",
       "      <td>...</td>\n",
       "      <td>...</td>\n",
       "      <td>...</td>\n",
       "      <td>...</td>\n",
       "      <td>...</td>\n",
       "      <td>...</td>\n",
       "      <td>...</td>\n",
       "      <td>...</td>\n",
       "      <td>...</td>\n",
       "      <td>...</td>\n",
       "      <td>...</td>\n",
       "      <td>...</td>\n",
       "      <td>...</td>\n",
       "    </tr>\n",
       "    <tr>\n",
       "      <th>1455</th>\n",
       "      <td>1456</td>\n",
       "      <td>60</td>\n",
       "      <td>3</td>\n",
       "      <td>4.127134</td>\n",
       "      <td>7917</td>\n",
       "      <td>1</td>\n",
       "      <td>3</td>\n",
       "      <td>3</td>\n",
       "      <td>0</td>\n",
       "      <td>4</td>\n",
       "      <td>...</td>\n",
       "      <td>1</td>\n",
       "      <td>0</td>\n",
       "      <td>0</td>\n",
       "      <td>0</td>\n",
       "      <td>0</td>\n",
       "      <td>0</td>\n",
       "      <td>0</td>\n",
       "      <td>0</td>\n",
       "      <td>0</td>\n",
       "      <td>1</td>\n",
       "    </tr>\n",
       "    <tr>\n",
       "      <th>1456</th>\n",
       "      <td>1457</td>\n",
       "      <td>20</td>\n",
       "      <td>3</td>\n",
       "      <td>4.442651</td>\n",
       "      <td>13175</td>\n",
       "      <td>1</td>\n",
       "      <td>3</td>\n",
       "      <td>3</td>\n",
       "      <td>0</td>\n",
       "      <td>4</td>\n",
       "      <td>...</td>\n",
       "      <td>0</td>\n",
       "      <td>0</td>\n",
       "      <td>0</td>\n",
       "      <td>0</td>\n",
       "      <td>0</td>\n",
       "      <td>0</td>\n",
       "      <td>0</td>\n",
       "      <td>0</td>\n",
       "      <td>0</td>\n",
       "      <td>1</td>\n",
       "    </tr>\n",
       "    <tr>\n",
       "      <th>1457</th>\n",
       "      <td>1458</td>\n",
       "      <td>70</td>\n",
       "      <td>3</td>\n",
       "      <td>4.189655</td>\n",
       "      <td>9042</td>\n",
       "      <td>1</td>\n",
       "      <td>3</td>\n",
       "      <td>3</td>\n",
       "      <td>0</td>\n",
       "      <td>4</td>\n",
       "      <td>...</td>\n",
       "      <td>1</td>\n",
       "      <td>0</td>\n",
       "      <td>0</td>\n",
       "      <td>0</td>\n",
       "      <td>0</td>\n",
       "      <td>0</td>\n",
       "      <td>0</td>\n",
       "      <td>0</td>\n",
       "      <td>0</td>\n",
       "      <td>1</td>\n",
       "    </tr>\n",
       "    <tr>\n",
       "      <th>1458</th>\n",
       "      <td>1459</td>\n",
       "      <td>20</td>\n",
       "      <td>3</td>\n",
       "      <td>4.219508</td>\n",
       "      <td>9717</td>\n",
       "      <td>1</td>\n",
       "      <td>3</td>\n",
       "      <td>3</td>\n",
       "      <td>0</td>\n",
       "      <td>4</td>\n",
       "      <td>...</td>\n",
       "      <td>1</td>\n",
       "      <td>0</td>\n",
       "      <td>0</td>\n",
       "      <td>0</td>\n",
       "      <td>0</td>\n",
       "      <td>0</td>\n",
       "      <td>0</td>\n",
       "      <td>0</td>\n",
       "      <td>0</td>\n",
       "      <td>1</td>\n",
       "    </tr>\n",
       "    <tr>\n",
       "      <th>1459</th>\n",
       "      <td>1460</td>\n",
       "      <td>20</td>\n",
       "      <td>3</td>\n",
       "      <td>4.317488</td>\n",
       "      <td>9937</td>\n",
       "      <td>1</td>\n",
       "      <td>3</td>\n",
       "      <td>3</td>\n",
       "      <td>0</td>\n",
       "      <td>4</td>\n",
       "      <td>...</td>\n",
       "      <td>1</td>\n",
       "      <td>0</td>\n",
       "      <td>0</td>\n",
       "      <td>0</td>\n",
       "      <td>0</td>\n",
       "      <td>0</td>\n",
       "      <td>0</td>\n",
       "      <td>0</td>\n",
       "      <td>0</td>\n",
       "      <td>1</td>\n",
       "    </tr>\n",
       "  </tbody>\n",
       "</table>\n",
       "<p>1460 rows × 173 columns</p>\n",
       "</div>"
      ],
      "text/plain": [
       "        Id  MSSubClass  MSZoning  LotFrontage  LotArea  Street  LotShape  \\\n",
       "0        1          60         3     4.174387     8450       1         3   \n",
       "1        2          20         3     4.382027     9600       1         3   \n",
       "2        3          60         3     4.219508    11250       1         0   \n",
       "3        4          70         3     4.094345     9550       1         0   \n",
       "4        5          60         3     4.430817    14260       1         0   \n",
       "...    ...         ...       ...          ...      ...     ...       ...   \n",
       "1455  1456          60         3     4.127134     7917       1         3   \n",
       "1456  1457          20         3     4.442651    13175       1         3   \n",
       "1457  1458          70         3     4.189655     9042       1         3   \n",
       "1458  1459          20         3     4.219508     9717       1         3   \n",
       "1459  1460          20         3     4.317488     9937       1         3   \n",
       "\n",
       "      LandContour  Utilities  LotConfig  ...  Functional_Typ  SaleType_COD  \\\n",
       "0               3          0          4  ...               1             0   \n",
       "1               3          0          2  ...               1             0   \n",
       "2               3          0          4  ...               1             0   \n",
       "3               3          0          0  ...               1             0   \n",
       "4               3          0          2  ...               1             0   \n",
       "...           ...        ...        ...  ...             ...           ...   \n",
       "1455            3          0          4  ...               1             0   \n",
       "1456            3          0          4  ...               0             0   \n",
       "1457            3          0          4  ...               1             0   \n",
       "1458            3          0          4  ...               1             0   \n",
       "1459            3          0          4  ...               1             0   \n",
       "\n",
       "      SaleType_CWD  SaleType_Con  SaleType_ConLD  SaleType_ConLI  \\\n",
       "0                0             0               0               0   \n",
       "1                0             0               0               0   \n",
       "2                0             0               0               0   \n",
       "3                0             0               0               0   \n",
       "4                0             0               0               0   \n",
       "...            ...           ...             ...             ...   \n",
       "1455             0             0               0               0   \n",
       "1456             0             0               0               0   \n",
       "1457             0             0               0               0   \n",
       "1458             0             0               0               0   \n",
       "1459             0             0               0               0   \n",
       "\n",
       "      SaleType_ConLw  SaleType_New  SaleType_Oth  SaleType_WD  \n",
       "0                  0             0             0            1  \n",
       "1                  0             0             0            1  \n",
       "2                  0             0             0            1  \n",
       "3                  0             0             0            1  \n",
       "4                  0             0             0            1  \n",
       "...              ...           ...           ...          ...  \n",
       "1455               0             0             0            1  \n",
       "1456               0             0             0            1  \n",
       "1457               0             0             0            1  \n",
       "1458               0             0             0            1  \n",
       "1459               0             0             0            1  \n",
       "\n",
       "[1460 rows x 173 columns]"
      ]
     },
     "execution_count": 170,
     "metadata": {},
     "output_type": "execute_result"
    }
   ],
   "source": [
    "df_encoded"
   ]
  },
  {
   "cell_type": "code",
   "execution_count": 171,
   "metadata": {},
   "outputs": [
    {
     "data": {
      "text/plain": [
       "['Neighborhood',\n",
       " 'Condition1',\n",
       " 'Condition2',\n",
       " 'HouseStyle',\n",
       " 'RoofMatl',\n",
       " 'Exterior1st',\n",
       " 'Exterior2nd',\n",
       " 'Functional',\n",
       " 'SaleType']"
      ]
     },
     "execution_count": 171,
     "metadata": {},
     "output_type": "execute_result"
    }
   ],
   "source": [
    "result = [x for x in list(df.columns) if x not in list(df_encoded.columns)]\n",
    "\n",
    "result"
   ]
  },
  {
   "cell_type": "code",
   "execution_count": 174,
   "metadata": {},
   "outputs": [],
   "source": [
    "y= df_encoded['SalePrice']\n",
    "X= df_encoded.drop('SalePrice', axis= 1)"
   ]
  },
  {
   "cell_type": "markdown",
   "metadata": {},
   "source": [
    "##### Normalizing the numeircal columns"
   ]
  },
  {
   "cell_type": "code",
   "execution_count": 176,
   "metadata": {},
   "outputs": [],
   "source": [
    "from sklearn.preprocessing import StandardScaler\n",
    "\n",
    "scaler = StandardScaler()\n",
    "\n",
    "df_encoded[num_cols] = scaler.fit_transform(df_encoded[num_cols]) "
   ]
  },
  {
   "cell_type": "markdown",
   "metadata": {},
   "source": [
    "### Implement the 5 regression models and compute the MSE"
   ]
  },
  {
   "cell_type": "code",
   "execution_count": 179,
   "metadata": {},
   "outputs": [],
   "source": [
    "def get_metrics(y_test, y_pred):\n",
    "\n",
    "  print(f\"Mean Absoulute error      : {metrics.mean_absolute_error(y_test,y_pred)}\")\n",
    "  print(f\"Mean Squared error        : {metrics.mean_squared_error(y_test,y_pred)}\")\n",
    "  print(f\"Root Mean Square error    : {np.sqrt(metrics.mean_squared_error(y_test,y_pred))}\")\n",
    "  print(f\"R2 score                  : {metrics.r2_score(y_test,y_pred)}\")"
   ]
  },
  {
   "cell_type": "markdown",
   "metadata": {},
   "source": [
    "#### Splitting data"
   ]
  },
  {
   "cell_type": "code",
   "execution_count": 181,
   "metadata": {},
   "outputs": [],
   "source": [
    "# Train test split\n",
    "from sklearn.model_selection import train_test_split\n",
    "\n",
    "X_train, X_test, y_train, y_test = train_test_split(X, y, test_size = 0.33, random_state = 9)"
   ]
  },
  {
   "cell_type": "markdown",
   "metadata": {},
   "source": [
    "### Linear Regression"
   ]
  },
  {
   "cell_type": "code",
   "execution_count": 206,
   "metadata": {},
   "outputs": [],
   "source": [
    "from sklearn.linear_model import LinearRegression\n",
    "\n",
    "lr= LinearRegression()\n",
    "\n",
    "lr.fit(X_train, y_train)\n",
    "\n",
    "y_pred= lr.predict(X_test)\n",
    "\n",
    "# plt.scatter(X, y, label=\"Original Data\")\n",
    "\n",
    "# # plt.plot(X_test, y_pred, color='red', label=\"Regression Line\")\n",
    "\n",
    "# plt.xlabel(\"X\")\n",
    "# plt.ylabel(\"y\")\n",
    "# plt.legend()\n",
    "\n",
    "# plt.show()"
   ]
  },
  {
   "cell_type": "code",
   "execution_count": 207,
   "metadata": {},
   "outputs": [
    {
     "name": "stdout",
     "output_type": "stream",
     "text": [
      "Mean Absoulute error      : 21400.352235098322\n",
      "Mean Squared error        : 2096022107.0576704\n",
      "Root Mean Square error    : 45782.33400622636\n",
      "R2 score                  : 0.6762022798578688\n"
     ]
    }
   ],
   "source": [
    "get_metrics(y_test, y_pred)"
   ]
  },
  {
   "cell_type": "markdown",
   "metadata": {},
   "source": [
    "### Polynomial regression"
   ]
  },
  {
   "cell_type": "code",
   "execution_count": 210,
   "metadata": {},
   "outputs": [],
   "source": [
    "from sklearn.preprocessing import PolynomialFeatures\n",
    "\n",
    "# Fit polynomial regression model\n",
    "poly = PolynomialFeatures(degree=1) # set degree of polynomial\n",
    "X_poly_train = poly.fit_transform(X_train) # create polynomial features\n",
    "poly_reg = LinearRegression() # create linear regression model\n",
    "poly_reg.fit(X_poly_train, y_train) # fit model on polynomial features\n",
    "\n",
    "X_poly_test= poly.fit_transform(X_test)\n",
    "# Make predictions\n",
    "y_pred = poly_reg.predict(X_poly_test)"
   ]
  },
  {
   "cell_type": "code",
   "execution_count": 211,
   "metadata": {},
   "outputs": [
    {
     "name": "stdout",
     "output_type": "stream",
     "text": [
      "Mean Absoulute error      : 21400.35223511024\n",
      "Mean Squared error        : 2096022107.0597904\n",
      "Root Mean Square error    : 45782.33400624951\n",
      "R2 score                  : 0.6762022798575413\n"
     ]
    }
   ],
   "source": [
    "get_metrics(y_test, y_pred)"
   ]
  },
  {
   "cell_type": "markdown",
   "metadata": {},
   "source": [
    "### Decision Tree Regressor"
   ]
  },
  {
   "cell_type": "code",
   "execution_count": 213,
   "metadata": {},
   "outputs": [],
   "source": [
    "from sklearn.tree import DecisionTreeRegressor\n",
    "\n",
    "# Create decision tree regression model\n",
    "model = DecisionTreeRegressor(max_depth=5) # Set max_depth to avoid overfitting\n",
    "model.fit(X_train, y_train)\n",
    "\n",
    "# Make predictions on test data\n",
    "y_pred = model.predict(X_test)"
   ]
  },
  {
   "cell_type": "code",
   "execution_count": 214,
   "metadata": {},
   "outputs": [
    {
     "name": "stdout",
     "output_type": "stream",
     "text": [
      "Mean Absoulute error      : 25321.306872585432\n",
      "Mean Squared error        : 1290830100.0128038\n",
      "Root Mean Square error    : 35928.12408146025\n",
      "R2 score                  : 0.8005899641670693\n"
     ]
    }
   ],
   "source": [
    "get_metrics(y_test, y_pred)"
   ]
  },
  {
   "cell_type": "markdown",
   "metadata": {},
   "source": [
    "### Random Forest"
   ]
  },
  {
   "cell_type": "code",
   "execution_count": 216,
   "metadata": {},
   "outputs": [],
   "source": [
    "from sklearn.ensemble import RandomForestRegressor\n",
    "\n",
    "# Training the model\n",
    "rf_model = RandomForestRegressor(n_estimators=100, random_state=0)\n",
    "rf_model.fit(X_train, y_train)\n",
    "\n",
    "# Predicting the target values\n",
    "y_pred = rf_model.predict(X_test)"
   ]
  },
  {
   "cell_type": "code",
   "execution_count": 217,
   "metadata": {},
   "outputs": [
    {
     "name": "stdout",
     "output_type": "stream",
     "text": [
      "Mean Absoulute error      : 17304.30429460581\n",
      "Mean Squared error        : 914528099.5190022\n",
      "Root Mean Square error    : 30241.165644184453\n",
      "R2 score                  : 0.8587218557318291\n"
     ]
    }
   ],
   "source": [
    "get_metrics(y_test, y_pred)"
   ]
  },
  {
   "cell_type": "markdown",
   "metadata": {},
   "source": [
    "### 5) Specific to Random Forest Algorithm -\n",
    "##### a. Find the importance of each of the features and visualize them\n",
    "##### b. Build a new model by only taking the most important metrics\n",
    "##### c. Compare the results of both the models"
   ]
  },
  {
   "cell_type": "code",
   "execution_count": 220,
   "metadata": {},
   "outputs": [],
   "source": [
    "from sklearn.feature_selection import SelectKBest\n",
    "from sklearn.feature_selection import f_regression\n",
    "\n",
    "# configure to select all features\n",
    "fs = SelectKBest(score_func=f_regression, k='all')\n",
    "# learn relationship from training data\n",
    "fs.fit(X_train, y_train)\n",
    "# transform train input data\n",
    "X_train_fs = fs.transform(X_train)\n",
    "# transform test input data\n",
    "X_test_fs = fs.transform(X_test)"
   ]
  },
  {
   "cell_type": "code",
   "execution_count": 222,
   "metadata": {},
   "outputs": [
    {
     "name": "stdout",
     "output_type": "stream",
     "text": [
      "Feature 0: 0.14549983737615438\n",
      "Feature 1: 5.969843784473013\n",
      "Feature 2: 14.257116706511997\n",
      "Feature 3: 114.98824504993269\n",
      "Feature 4: 68.15256796933\n",
      "Feature 5: 1.7971516722364231\n",
      "Feature 6: 70.0271818767139\n",
      "Feature 7: 0.9319467953131307\n",
      "Feature 8: 0.30956913134716757\n",
      "Feature 9: 5.8588832242999125\n",
      "Feature 10: 1.4743689246896572\n",
      "Feature 11: 8.396843173724235\n",
      "Feature 12: 1577.6252786121645\n",
      "Feature 13: 0.8314947051098968\n",
      "Feature 14: 357.2222470597821\n",
      "Feature 15: 352.69343862703465\n",
      "Feature 16: 59.31215462231686\n",
      "Feature 17: 1.510814459326075\n",
      "Feature 18: 218.30876958406702\n",
      "Feature 19: 580.8756294228222\n",
      "Feature 20: 14.814097800025293\n",
      "Feature 21: 156.0631275667828\n",
      "Feature 22: 605.0683875128724\n",
      "Feature 23: 1.7769073632630774\n",
      "Feature 24: 73.25821524935743\n",
      "Feature 25: 10.31676945344248\n",
      "Feature 26: 187.99425616234583\n",
      "Feature 27: 3.7427003523304543\n",
      "Feature 28: 0.623457111035385\n",
      "Feature 29: 42.292657394498306\n",
      "Feature 30: 635.4243794712432\n",
      "Feature 31: 7.316555891574037\n",
      "Feature 32: 183.06953418369116\n",
      "Feature 33: 70.06713946703087\n",
      "Feature 34: 58.98174602377251\n",
      "Feature 35: 584.1572052465743\n",
      "Feature 36: 121.27465432711112\n",
      "Feature 37: 0.0590572253460221\n",
      "Feature 38: 1083.2466625510297\n",
      "Feature 39: 55.46808544129433\n",
      "Feature 40: 0.39061681580930585\n",
      "Feature 41: 472.75131483953436\n",
      "Feature 42: 86.85903675370027\n",
      "Feature 43: 34.90161494344565\n",
      "Feature 44: 17.828486956387145\n",
      "Feature 45: 485.82431562860626\n",
      "Feature 46: 410.0342759117314\n",
      "Feature 47: 275.51247021311156\n",
      "Feature 48: 5.304113298180978\n",
      "Feature 49: 85.30599178580995\n",
      "Feature 50: 181.90038311010366\n",
      "Feature 51: 348.3426386075015\n",
      "Feature 52: 727.0027618575898\n",
      "Feature 53: 714.5507210440023\n",
      "Feature 54: 9.437836323148744\n",
      "Feature 55: 21.22491609328526\n",
      "Feature 56: 60.92498455124711\n",
      "Feature 57: 101.51236798619749\n",
      "Feature 58: 107.25926556048155\n",
      "Feature 59: 14.15275155108448\n",
      "Feature 60: 3.323875500123356\n",
      "Feature 61: 9.917225329190867\n",
      "Feature 62: 1.1579364999622217\n",
      "Feature 63: 0.7073220466048726\n",
      "Feature 64: 2.1261120077580986\n",
      "Feature 65: 2.2550688503905905\n",
      "Feature 66: 56.32435407661539\n",
      "Feature 67: 0.5470974035479806\n",
      "Feature 68: 0.6199696715275065\n",
      "Feature 69: 10.255856738603462\n",
      "Feature 70: 20.6751919091808\n",
      "Feature 71: 3.5813917220039757\n",
      "Feature 72: 8.077829572165518\n",
      "Feature 73: 6.642971675728543\n",
      "Feature 74: 37.57177175140605\n",
      "Feature 75: 1.123765712318461\n",
      "Feature 76: 32.458818677795236\n",
      "Feature 77: 8.984127511905761\n",
      "Feature 78: 4.564064816739306\n",
      "Feature 79: 34.48073752391751\n",
      "Feature 80: 1.9323517658263352\n",
      "Feature 81: 1.3719105982409818\n",
      "Feature 82: 135.5204815516763\n",
      "Feature 83: 159.34602060485085\n",
      "Feature 84: 32.51370350110544\n",
      "Feature 85: 3.6229901717175115\n",
      "Feature 86: 21.233430819125292\n",
      "Feature 87: 0.02868284703429851\n",
      "Feature 88: 18.868430058612827\n",
      "Feature 89: 44.465458933880356\n",
      "Feature 90: 17.391893154435508\n",
      "Feature 91: 2.2436842525717653\n",
      "Feature 92: 9.549204578107824\n",
      "Feature 93: 10.255124905455709\n",
      "Feature 94: 8.954147801705387\n",
      "Feature 95: 3.6296232865137656\n",
      "Feature 96: 1.207430404980784\n",
      "Feature 97: 3.3018236715737874\n",
      "Feature 98: 0.0375713489511023\n",
      "Feature 99: 0.02802989223307441\n",
      "Feature 100: 2.066665989781482\n",
      "Feature 101: 1.1999140053421662\n",
      "Feature 102: 1.6967677431478374\n",
      "Feature 103: 1.807220482569541\n",
      "Feature 104: 0.0\n",
      "Feature 105: 0.0017900134376676099\n",
      "Feature 106: 0.011842087684375592\n",
      "Feature 107: 0.0\n",
      "Feature 108: 0.0\n",
      "Feature 109: 25.65957072549412\n",
      "Feature 110: 9.61144201528869\n",
      "Feature 111: 6.323119759919596\n",
      "Feature 112: 6.093571841978815\n",
      "Feature 113: 2.2074153120746143\n",
      "Feature 114: 67.40674291075669\n",
      "Feature 115: 7.16074273594271\n",
      "Feature 116: 1.7730723558783583\n",
      "Feature 117: 0.0\n",
      "Feature 118: 20.89941117787521\n",
      "Feature 119: 0.0\n",
      "Feature 120: 0.0003193076820882077\n",
      "Feature 121: 0.31666157811169454\n",
      "Feature 122: 0.9857037763188251\n",
      "Feature 123: 3.4287574886548486\n",
      "Feature 124: 36.83898958897905\n",
      "Feature 125: 14.161253350043115\n",
      "Feature 126: 0.0\n",
      "Feature 127: 2.3716473792376522\n",
      "Feature 128: 2.0919195267846202\n",
      "Feature 129: 0.938008364725713\n",
      "Feature 130: 15.247121567293462\n",
      "Feature 131: 7.758563545648968\n",
      "Feature 132: 1.0435306393443158\n",
      "Feature 133: 26.560128481068364\n",
      "Feature 134: 0.48116791539551484\n",
      "Feature 135: 1.9133744515229212\n",
      "Feature 136: 0.003392914278341839\n",
      "Feature 137: 106.73568685602119\n",
      "Feature 138: 34.94649164820852\n",
      "Feature 139: 5.433675557039969\n",
      "Feature 140: 12.95826109509944\n",
      "Feature 141: 0.0\n",
      "Feature 142: 2.026311092112256\n",
      "Feature 143: 2.4899373182639093\n",
      "Feature 144: 0.938008364725713\n",
      "Feature 145: 19.038236085370574\n",
      "Feature 146: 3.13257119312478\n",
      "Feature 147: 1.1307699512451785\n",
      "Feature 148: 27.193332155861277\n",
      "Feature 149: 3.0479565275901495\n",
      "Feature 150: 2.9919156184295193\n",
      "Feature 151: 0.735641926150966\n",
      "Feature 152: 0.04351641983150529\n",
      "Feature 153: 109.02210755818675\n",
      "Feature 154: 31.75376135406158\n",
      "Feature 155: 6.641340195568854\n",
      "Feature 156: 3.056362569285903\n",
      "Feature 157: 4.79922204941961\n",
      "Feature 158: 1.0857828285950402\n",
      "Feature 159: 8.948959279471296\n",
      "Feature 160: 4.933137447119324\n",
      "Feature 161: 0.0\n",
      "Feature 162: 20.24677188823903\n",
      "Feature 163: 4.613216678433917\n",
      "Feature 164: 3.5039880731290745\n",
      "Feature 165: 0.18328620155654218\n",
      "Feature 166: 1.8539450135410385\n",
      "Feature 167: 1.0484271300996113\n",
      "Feature 168: 1.9367389625880675\n",
      "Feature 169: 163.78632506677198\n",
      "Feature 170: 1.1450938681930845\n",
      "Feature 171: 75.61662507820056\n"
     ]
    },
    {
     "data": {
      "image/png": "[encoded data removed]",
      "text/plain": [
       "<Figure size 640x480 with 1 Axes>"
      ]
     },
     "metadata": {},
     "output_type": "display_data"
    }
   ],
   "source": [
    "# what are scores for the features\n",
    "for i in range(len(fs.scores_)):\n",
    " print(f'Feature {i}: {fs.scores_[i]}')\n",
    "\n",
    "# plot the scores\n",
    "plt.bar([i for i in range(len(fs.scores_))], fs.scores_)\n",
    "plt.show()"
   ]
  },
  {
   "cell_type": "code",
   "execution_count": 231,
   "metadata": {},
   "outputs": [
    {
     "data": {
      "text/plain": [
       "[12, 14, 15, 18, 19, 22, 30, 35, 38, 41, 45, 46, 47, 51, 52, 53, 172]"
      ]
     },
     "execution_count": 231,
     "metadata": {},
     "output_type": "execute_result"
    }
   ],
   "source": [
    "index1 = []\n",
    "\n",
    "for i in range(len(fs.scores_)):\n",
    "  if(fs.scores_[i]>=200):\n",
    "    index1.append(i)\n",
    "\n",
    "index1.append(len(list(df_encoded.columns))-1)   # we are including the normlaized target column also \n",
    "index1"
   ]
  },
  {
   "cell_type": "code",
   "execution_count": 225,
   "metadata": {},
   "outputs": [],
   "source": [
    "# b. Building a new dataframe from important columns and applying Random Forest Algorithm"
   ]
  },
  {
   "cell_type": "code",
   "execution_count": 233,
   "metadata": {},
   "outputs": [
    {
     "data": {
      "text/html": [
       "<div>\n",
       "<style scoped>\n",
       "    .dataframe tbody tr th:only-of-type {\n",
       "        vertical-align: middle;\n",
       "    }\n",
       "\n",
       "    .dataframe tbody tr th {\n",
       "        vertical-align: top;\n",
       "    }\n",
       "\n",
       "    .dataframe thead th {\n",
       "        text-align: right;\n",
       "    }\n",
       "</style>\n",
       "<table border=\"1\" class=\"dataframe\">\n",
       "  <thead>\n",
       "    <tr style=\"text-align: right;\">\n",
       "      <th></th>\n",
       "      <th>OverallQual</th>\n",
       "      <th>YearBuilt</th>\n",
       "      <th>YearRemodAdd</th>\n",
       "      <th>MasVnrArea</th>\n",
       "      <th>ExterQual</th>\n",
       "      <th>BsmtQual</th>\n",
       "      <th>TotalBsmtSF</th>\n",
       "      <th>1stFlrSF</th>\n",
       "      <th>GrLivArea</th>\n",
       "      <th>FullBath</th>\n",
       "      <th>KitchenQual</th>\n",
       "      <th>TotRmsAbvGrd</th>\n",
       "      <th>Fireplaces</th>\n",
       "      <th>GarageFinish</th>\n",
       "      <th>GarageCars</th>\n",
       "      <th>GarageArea</th>\n",
       "      <th>SaleType_WD</th>\n",
       "    </tr>\n",
       "  </thead>\n",
       "  <tbody>\n",
       "    <tr>\n",
       "      <th>0</th>\n",
       "      <td>0.651479</td>\n",
       "      <td>1.050994</td>\n",
       "      <td>0.878668</td>\n",
       "      <td>1.204192</td>\n",
       "      <td>2</td>\n",
       "      <td>2</td>\n",
       "      <td>-0.459303</td>\n",
       "      <td>-0.793434</td>\n",
       "      <td>0.370333</td>\n",
       "      <td>0.789741</td>\n",
       "      <td>2</td>\n",
       "      <td>0.912210</td>\n",
       "      <td>-0.951226</td>\n",
       "      <td>1</td>\n",
       "      <td>0.311725</td>\n",
       "      <td>0.351000</td>\n",
       "      <td>1</td>\n",
       "    </tr>\n",
       "    <tr>\n",
       "      <th>1</th>\n",
       "      <td>-0.071836</td>\n",
       "      <td>0.156734</td>\n",
       "      <td>-0.429577</td>\n",
       "      <td>-0.805930</td>\n",
       "      <td>3</td>\n",
       "      <td>2</td>\n",
       "      <td>0.466465</td>\n",
       "      <td>0.257140</td>\n",
       "      <td>-0.482512</td>\n",
       "      <td>0.789741</td>\n",
       "      <td>3</td>\n",
       "      <td>-0.318683</td>\n",
       "      <td>0.600495</td>\n",
       "      <td>1</td>\n",
       "      <td>0.311725</td>\n",
       "      <td>-0.060731</td>\n",
       "      <td>1</td>\n",
       "    </tr>\n",
       "    <tr>\n",
       "      <th>2</th>\n",
       "      <td>0.651479</td>\n",
       "      <td>0.984752</td>\n",
       "      <td>0.830215</td>\n",
       "      <td>1.131635</td>\n",
       "      <td>2</td>\n",
       "      <td>2</td>\n",
       "      <td>-0.313369</td>\n",
       "      <td>-0.627826</td>\n",
       "      <td>0.515013</td>\n",
       "      <td>0.789741</td>\n",
       "      <td>2</td>\n",
       "      <td>-0.318683</td>\n",
       "      <td>0.600495</td>\n",
       "      <td>1</td>\n",
       "      <td>0.311725</td>\n",
       "      <td>0.631726</td>\n",
       "      <td>1</td>\n",
       "    </tr>\n",
       "    <tr>\n",
       "      <th>3</th>\n",
       "      <td>0.651479</td>\n",
       "      <td>-1.863632</td>\n",
       "      <td>-0.720298</td>\n",
       "      <td>-0.805930</td>\n",
       "      <td>3</td>\n",
       "      <td>3</td>\n",
       "      <td>-0.687324</td>\n",
       "      <td>-0.521734</td>\n",
       "      <td>0.383659</td>\n",
       "      <td>-1.026041</td>\n",
       "      <td>2</td>\n",
       "      <td>0.296763</td>\n",
       "      <td>0.600495</td>\n",
       "      <td>2</td>\n",
       "      <td>1.650307</td>\n",
       "      <td>0.790804</td>\n",
       "      <td>1</td>\n",
       "    </tr>\n",
       "    <tr>\n",
       "      <th>4</th>\n",
       "      <td>1.374795</td>\n",
       "      <td>0.951632</td>\n",
       "      <td>0.733308</td>\n",
       "      <td>1.425011</td>\n",
       "      <td>2</td>\n",
       "      <td>2</td>\n",
       "      <td>0.199680</td>\n",
       "      <td>-0.045611</td>\n",
       "      <td>1.299326</td>\n",
       "      <td>0.789741</td>\n",
       "      <td>2</td>\n",
       "      <td>1.527656</td>\n",
       "      <td>0.600495</td>\n",
       "      <td>1</td>\n",
       "      <td>1.650307</td>\n",
       "      <td>1.698485</td>\n",
       "      <td>1</td>\n",
       "    </tr>\n",
       "    <tr>\n",
       "      <th>...</th>\n",
       "      <td>...</td>\n",
       "      <td>...</td>\n",
       "      <td>...</td>\n",
       "      <td>...</td>\n",
       "      <td>...</td>\n",
       "      <td>...</td>\n",
       "      <td>...</td>\n",
       "      <td>...</td>\n",
       "      <td>...</td>\n",
       "      <td>...</td>\n",
       "      <td>...</td>\n",
       "      <td>...</td>\n",
       "      <td>...</td>\n",
       "      <td>...</td>\n",
       "      <td>...</td>\n",
       "      <td>...</td>\n",
       "      <td>...</td>\n",
       "    </tr>\n",
       "    <tr>\n",
       "      <th>1455</th>\n",
       "      <td>-0.071836</td>\n",
       "      <td>0.918511</td>\n",
       "      <td>0.733308</td>\n",
       "      <td>-0.805930</td>\n",
       "      <td>3</td>\n",
       "      <td>2</td>\n",
       "      <td>-0.238122</td>\n",
       "      <td>-0.542435</td>\n",
       "      <td>0.250402</td>\n",
       "      <td>0.789741</td>\n",
       "      <td>3</td>\n",
       "      <td>0.296763</td>\n",
       "      <td>0.600495</td>\n",
       "      <td>1</td>\n",
       "      <td>0.311725</td>\n",
       "      <td>-0.060731</td>\n",
       "      <td>1</td>\n",
       "    </tr>\n",
       "    <tr>\n",
       "      <th>1456</th>\n",
       "      <td>-0.071836</td>\n",
       "      <td>0.222975</td>\n",
       "      <td>0.151865</td>\n",
       "      <td>1.014156</td>\n",
       "      <td>3</td>\n",
       "      <td>2</td>\n",
       "      <td>1.104925</td>\n",
       "      <td>2.355701</td>\n",
       "      <td>1.061367</td>\n",
       "      <td>0.789741</td>\n",
       "      <td>3</td>\n",
       "      <td>0.296763</td>\n",
       "      <td>2.152216</td>\n",
       "      <td>2</td>\n",
       "      <td>0.311725</td>\n",
       "      <td>0.126420</td>\n",
       "      <td>1</td>\n",
       "    </tr>\n",
       "    <tr>\n",
       "      <th>1457</th>\n",
       "      <td>0.651479</td>\n",
       "      <td>-1.002492</td>\n",
       "      <td>1.024029</td>\n",
       "      <td>-0.805930</td>\n",
       "      <td>0</td>\n",
       "      <td>3</td>\n",
       "      <td>0.215641</td>\n",
       "      <td>0.065656</td>\n",
       "      <td>1.569647</td>\n",
       "      <td>0.789741</td>\n",
       "      <td>2</td>\n",
       "      <td>1.527656</td>\n",
       "      <td>2.152216</td>\n",
       "      <td>1</td>\n",
       "      <td>-1.026858</td>\n",
       "      <td>-1.033914</td>\n",
       "      <td>1</td>\n",
       "    </tr>\n",
       "    <tr>\n",
       "      <th>1458</th>\n",
       "      <td>-0.795151</td>\n",
       "      <td>-0.704406</td>\n",
       "      <td>0.539493</td>\n",
       "      <td>-0.805930</td>\n",
       "      <td>3</td>\n",
       "      <td>3</td>\n",
       "      <td>0.046905</td>\n",
       "      <td>-0.218982</td>\n",
       "      <td>-0.832788</td>\n",
       "      <td>-1.026041</td>\n",
       "      <td>2</td>\n",
       "      <td>-0.934130</td>\n",
       "      <td>-0.951226</td>\n",
       "      <td>2</td>\n",
       "      <td>-1.026858</td>\n",
       "      <td>-1.090059</td>\n",
       "      <td>1</td>\n",
       "    </tr>\n",
       "    <tr>\n",
       "      <th>1459</th>\n",
       "      <td>-0.795151</td>\n",
       "      <td>-0.207594</td>\n",
       "      <td>-0.962566</td>\n",
       "      <td>-0.805930</td>\n",
       "      <td>2</td>\n",
       "      <td>3</td>\n",
       "      <td>0.452784</td>\n",
       "      <td>0.241615</td>\n",
       "      <td>-0.493934</td>\n",
       "      <td>-1.026041</td>\n",
       "      <td>3</td>\n",
       "      <td>-0.318683</td>\n",
       "      <td>-0.951226</td>\n",
       "      <td>0</td>\n",
       "      <td>-1.026858</td>\n",
       "      <td>-0.921624</td>\n",
       "      <td>1</td>\n",
       "    </tr>\n",
       "  </tbody>\n",
       "</table>\n",
       "<p>1460 rows × 17 columns</p>\n",
       "</div>"
      ],
      "text/plain": [
       "      OverallQual  YearBuilt  YearRemodAdd  MasVnrArea  ExterQual  BsmtQual  \\\n",
       "0        0.651479   1.050994      0.878668    1.204192          2         2   \n",
       "1       -0.071836   0.156734     -0.429577   -0.805930          3         2   \n",
       "2        0.651479   0.984752      0.830215    1.131635          2         2   \n",
       "3        0.651479  -1.863632     -0.720298   -0.805930          3         3   \n",
       "4        1.374795   0.951632      0.733308    1.425011          2         2   \n",
       "...           ...        ...           ...         ...        ...       ...   \n",
       "1455    -0.071836   0.918511      0.733308   -0.805930          3         2   \n",
       "1456    -0.071836   0.222975      0.151865    1.014156          3         2   \n",
       "1457     0.651479  -1.002492      1.024029   -0.805930          0         3   \n",
       "1458    -0.795151  -0.704406      0.539493   -0.805930          3         3   \n",
       "1459    -0.795151  -0.207594     -0.962566   -0.805930          2         3   \n",
       "\n",
       "      TotalBsmtSF  1stFlrSF  GrLivArea  FullBath  KitchenQual  TotRmsAbvGrd  \\\n",
       "0       -0.459303 -0.793434   0.370333  0.789741            2      0.912210   \n",
       "1        0.466465  0.257140  -0.482512  0.789741            3     -0.318683   \n",
       "2       -0.313369 -0.627826   0.515013  0.789741            2     -0.318683   \n",
       "3       -0.687324 -0.521734   0.383659 -1.026041            2      0.296763   \n",
       "4        0.199680 -0.045611   1.299326  0.789741            2      1.527656   \n",
       "...           ...       ...        ...       ...          ...           ...   \n",
       "1455    -0.238122 -0.542435   0.250402  0.789741            3      0.296763   \n",
       "1456     1.104925  2.355701   1.061367  0.789741            3      0.296763   \n",
       "1457     0.215641  0.065656   1.569647  0.789741            2      1.527656   \n",
       "1458     0.046905 -0.218982  -0.832788 -1.026041            2     -0.934130   \n",
       "1459     0.452784  0.241615  -0.493934 -1.026041            3     -0.318683   \n",
       "\n",
       "      Fireplaces  GarageFinish  GarageCars  GarageArea  SaleType_WD  \n",
       "0      -0.951226             1    0.311725    0.351000            1  \n",
       "1       0.600495             1    0.311725   -0.060731            1  \n",
       "2       0.600495             1    0.311725    0.631726            1  \n",
       "3       0.600495             2    1.650307    0.790804            1  \n",
       "4       0.600495             1    1.650307    1.698485            1  \n",
       "...          ...           ...         ...         ...          ...  \n",
       "1455    0.600495             1    0.311725   -0.060731            1  \n",
       "1456    2.152216             2    0.311725    0.126420            1  \n",
       "1457    2.152216             1   -1.026858   -1.033914            1  \n",
       "1458   -0.951226             2   -1.026858   -1.090059            1  \n",
       "1459   -0.951226             0   -1.026858   -0.921624            1  \n",
       "\n",
       "[1460 rows x 17 columns]"
      ]
     },
     "execution_count": 233,
     "metadata": {},
     "output_type": "execute_result"
    }
   ],
   "source": [
    "# Now our feature selected dataframe is ready\n",
    "fit_df = df_encoded.iloc[:,index1]\n",
    "fit_df"
   ]
  },
  {
   "cell_type": "code",
   "execution_count": 234,
   "metadata": {},
   "outputs": [],
   "source": [
    "from sklearn.ensemble import RandomForestRegressor\n",
    "\n",
    "# Load the dataset\n",
    "\n",
    "# Splitting the data into training and testing sets\n",
    "X = fit_df.iloc[:, 0:-1].values\n",
    "y = fit_df.iloc[:, -1].values\n",
    "X_train, X_test, y_train, y_test = train_test_split(X, y, test_size=0.4, random_state=0)\n",
    "\n",
    "# Training the model\n",
    "rf_model = RandomForestRegressor(n_estimators=100, random_state=9)\n",
    "rf_model.fit(X_train, y_train)\n",
    "\n",
    "# Predicting the target values\n",
    "y_pred = rf_model.predict(X_test)"
   ]
  },
  {
   "cell_type": "code",
   "execution_count": 235,
   "metadata": {},
   "outputs": [
    {
     "name": "stdout",
     "output_type": "stream",
     "text": [
      "Mean Absoulute error      : 0.16320205479452055\n",
      "Mean Squared error        : 0.09770804794520548\n",
      "Root Mean Square error    : 0.3125828657255632\n",
      "R2 score                  : 0.1986168386119327\n"
     ]
    }
   ],
   "source": [
    "get_metrics(y_test, y_pred)"
   ]
  }
 ],
 "metadata": {
  "kernelspec": {
   "display_name": "base",
   "language": "python",
   "name": "python3"
  },
  "language_info": {
   "codemirror_mode": {
    "name": "ipython",
    "version": 3
   },
   "file_extension": ".py",
   "mimetype": "text/x-python",
   "name": "python",
   "nbconvert_exporter": "python",
   "pygments_lexer": "ipython3",
   "version": "3.10.9"
  },
  "orig_nbformat": 4
 },
 "nbformat": 4,
 "nbformat_minor": 2
}
